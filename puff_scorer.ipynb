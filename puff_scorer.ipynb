{
 "cells": [
  {
   "cell_type": "code",
   "execution_count": 1,
   "metadata": {},
   "outputs": [],
   "source": [
    "import lib.display\n",
    "import numpy as np\n",
    "import pandas as pd\n",
    "import seaborn as sns\n",
    "import os\n",
    "import re\n",
    "\n",
    "import joblib\n",
    "\n",
    "from sklearn.ensemble import RandomForestClassifier\n",
    "\n",
    "from matplotlib import pyplot as plt\n",
    "from matplotlib import animation\n",
    "from skimage import transform\n",
    "from tqdm.auto import tqdm\n",
    "from IPython.display import HTML, clear_output\n",
    "import ipywidgets as widgets\n",
    "\n",
    "from math import floor"
   ]
  },
  {
   "cell_type": "code",
   "execution_count": 36,
   "metadata": {},
   "outputs": [],
   "source": [
    "logfile = '/Users/weinberz/Desktop/OPP_scramble.log'\n",
    "basedir = '/Users/weinberz/UM Drive/50Hz Puffs/Analysis/OPP'\n",
    "files = os.listdir(basedir)\n",
    "excludes = ['0IYVHRNA','19CC75ZU','2TZWB6CN','3W70AV4V']\n",
    "movies_list = [f for f in files if 'features' in f]\n",
    "movies_list = [m for m in movies_list if m.split('.')[0] not in excludes]"
   ]
  },
  {
   "cell_type": "code",
   "execution_count": 4,
   "metadata": {},
   "outputs": [],
   "source": [
    "def get_cargo_id(cell, logfile):\n",
    "    content = open(logfile,'r').read()\n",
    "\n",
    "    p = re.compile(\"(tfr|b2|mor).*\"+cell+\".*?\\n\")\n",
    "    res = p.search(content)\n",
    "    if res is not None:\n",
    "        if res.group(1) == 'b2':\n",
    "            return('B2')\n",
    "        elif res.group(1) == 'mor':\n",
    "            return('MOR')\n",
    "        elif res.group(1) == 'tfr':\n",
    "            return('TfR')\n",
    "    \n",
    "    raise NameError('Cell name not found in logfile.')"
   ]
  },
  {
   "cell_type": "markdown",
   "metadata": {},
   "source": [
    "# Unlabeled Sample"
   ]
  },
  {
   "cell_type": "code",
   "execution_count": 4,
   "metadata": {},
   "outputs": [],
   "source": [
    "features_list = []\n",
    "for movie in movies_list:\n",
    "    cell = movie.split('_')[0]\n",
    "    features = pd.read_csv(basedir + os.sep + movie, index_col=0)\n",
    "    features.loc[:, 'cell'] = cell\n",
    "    features.loc[:, 'cargo'] =  get_cargo_id(cell, logfile)\n",
    "    features_list.append(features)\n",
    "    \n",
    "sample = pd.concat(features_list, ignore_index=True)"
   ]
  },
  {
   "cell_type": "code",
   "execution_count": 6,
   "metadata": {},
   "outputs": [],
   "source": [
    "training_fields = ['conv_perim', 'conv_area', 'lifetime_s',\n",
    "    'randomness_s1', 'randomness_s2', 'cc11', 'cc12', 'cc13', 'cc21',\n",
    "    'cc22', 'cc23', 'deltaf', 'tau', 'resid_dist', 'residuals_median',\n",
    "    'residuals_std', 'snr_median', 'snr_std']\n",
    "\n",
    "classifier = joblib.load('global_classifier.joblib')\n",
    "new_pred_probs = np.zeros(len(sample))\n",
    "ww = (1 - np.mean(labeled_sample['puff']))/np.mean(labeled_sample['puff'])\n",
    "for tt in classifier.estimators_:\n",
    "    tree_pred = tt.predict_proba(sample[training_fields])[:,1]\n",
    "    new_pred_probs = new_pred_probs + tree_pred/(tree_pred + ww - ww*tree_pred)\n",
    "new_pred_probs /= (1.0*len(classifier.estimators_))\n",
    "sample['adj_proba'] = new_pred_probs"
   ]
  },
  {
   "cell_type": "code",
   "execution_count": 12,
   "metadata": {},
   "outputs": [],
   "source": [
    "np.random.seed(237)\n",
    "bins = [[0, 0.1], [0.1, 0.2], [0.2, 0.3], [0.3, 0.4], [0.4, 0.5], [0.5, 0.6], [0.6, 0.7], [0.7, 0.8], [0.8, 0.9], [0.9, 1.0]]\n",
    "n_samples = [36,  64,  84,  96, 100, 100,  96,  84,  64,  36]"
   ]
  },
  {
   "cell_type": "code",
   "execution_count": 13,
   "metadata": {},
   "outputs": [],
   "source": [
    "binned_samples = []\n",
    "for cargo in sample['cargo'].unique():\n",
    "    cargo_sample = sample[sample['cargo']==cargo]\n",
    "    for idx, bin_ in enumerate(bins):\n",
    "        binned_sample = cargo_sample[(bin_[0] <= cargo_sample['adj_proba'].values) &\n",
    "                                     (cargo_sample['adj_proba'].values < bin_[1])]\n",
    "        replacement = len(binned_sample) < n_samples[idx]\n",
    "        binned_sample = binned_sample.iloc[np.random.choice(len(binned_sample), size=n_samples[idx], replace=replacement)]\n",
    "        binned_samples.append(binned_sample[['cell', 'particle', 'adj_proba', 'cargo']])\n",
    "\n",
    "binned_samples = pd.concat(binned_samples, ignore_index = True)\n",
    "binned_samples['score'] = None"
   ]
  },
  {
   "cell_type": "code",
   "execution_count": 64,
   "metadata": {
    "jupyter": {
     "source_hidden": true
    }
   },
   "outputs": [
    {
     "data": {
      "application/vnd.jupyter.widget-view+json": {
       "model_id": "c19270ee39804592aa1475886325fbff",
       "version_major": 2,
       "version_minor": 0
      },
      "text/plain": [
       "VBox(children=(VBox(children=(HBox(children=(Label(value=''), Label(value=''))), HBox(children=(Button(descrip…"
      ]
     },
     "metadata": {},
     "output_type": "display_data"
    }
   ],
   "source": [
    "np.random.seed(237)\n",
    "subsample = binned_samples.loc[~(binned_samples['score'] >= 0), :]\n",
    "cell_label = widgets.Label(value='')\n",
    "particle_label = widgets.Label(value='')\n",
    "labels = widgets.HBox([cell_label, particle_label])\n",
    "\n",
    "centered_layout = widgets.Layout(align_items = 'center')\n",
    "\n",
    "loading_widget = widgets.Label(value='Loading...')\n",
    "\n",
    "puff_butt = widgets.Button(description='Puff!',\n",
    "                           disabled=False,\n",
    "                           button_style='',\n",
    "                           tooltips='Puff',\n",
    "                           icons='check')\n",
    "np_butt = widgets.Button(description='Nonpuff!',\n",
    "                           disabled=False,\n",
    "                           button_style='',\n",
    "                           tooltips='Nonpuff',\n",
    "                           icons='times')\n",
    "score_butt = widgets.HBox([np_butt, puff_butt])\n",
    "\n",
    "header = widgets.VBox([labels, score_butt], layout=centered_layout)\n",
    "summary_display = widgets.HBox([loading_widget])\n",
    "full_display = widgets.VBox([header, summary_display], layout=centered_layout)\n",
    "display(full_display)\n",
    "\n",
    "def load_next_cell():\n",
    "    global events\n",
    "    global cells\n",
    "    \n",
    "    cell = next(cells, None)\n",
    "    if cell is None:\n",
    "        loading_widget.value = \"You're done! Time to go home!\"\n",
    "        summary_display.children = [loading_widget]\n",
    "    else:\n",
    "        loading_widget.value = \"Getting new cell...\"\n",
    "        summary_display.children = [loading_widget]\n",
    "        cell_label.value = cell\n",
    "        intensities = pd.read_csv(basedir + os.sep + cell + '_intensities.csv')\n",
    "        events = [intensities.loc[intensities['particle'] == particle, :]\n",
    "                  for particle in subsample.loc[subsample['cell'] == cell_label.value, 'particle'].unique()]\n",
    "        np.random.shuffle(events)\n",
    "        events = iter(events)\n",
    "\n",
    "def display_and_load():\n",
    "    global events\n",
    "    \n",
    "    event = next(events, None)\n",
    "    if event is None:\n",
    "        load_next_cell()\n",
    "        event = next(events)\n",
    "    \n",
    "    loading_widget.value = (\"Loading event with length %d...\" % len(event['frame'].unique()))\n",
    "    summary_display.children = [loading_widget]\n",
    "    particle = event['particle'].values[0]\n",
    "    particle_label.value = str(particle)\n",
    "    summary_widgets = lib.display.plot_summary(event)\n",
    "    summary_display.children = [widgets.VBox([widgets.HBox(summary_widgets[:2]), \n",
    "                                             summary_widgets[2]], layout=centered_layout)]\n",
    "\n",
    "def call_puff(b):\n",
    "    binned_samples.loc[(binned_samples['particle'] == int(particle_label.value)) &\n",
    "                       (binned_samples['cell'] == cell_label.value), 'score'] = 1\n",
    "    display_and_load()\n",
    "\n",
    "def call_np(b):\n",
    "    binned_samples.loc[(binned_samples['particle'] == int(particle_label.value)) &\n",
    "                       (binned_samples['cell'] == cell_label.value), 'score'] = 0\n",
    "    display_and_load()\n",
    "\n",
    "puff_butt.on_click(call_puff)\n",
    "np_butt.on_click(call_np)\n",
    "\n",
    "cells = [cell for cell in subsample['cell'].unique()]\n",
    "np.random.shuffle(cells)\n",
    "cells = iter(cells)\n",
    "events = iter(())\n",
    "\n",
    "display_and_load()"
   ]
  },
  {
   "cell_type": "code",
   "execution_count": 74,
   "metadata": {},
   "outputs": [],
   "source": [
    "#binned_samples = pd.read_csv('scored_binned_samples.csv', index_col=0)\n",
    "#binned_samples.to_csv('scored_binned_samples-20191121.csv')"
   ]
  },
  {
   "cell_type": "code",
   "execution_count": 75,
   "metadata": {},
   "outputs": [
    {
     "data": {
      "text/plain": [
       "2190"
      ]
     },
     "execution_count": 75,
     "metadata": {},
     "output_type": "execute_result"
    }
   ],
   "source": [
    "np.sum(binned_samples['score']>=0)"
   ]
  },
  {
   "cell_type": "code",
   "execution_count": 71,
   "metadata": {
    "jupyter": {
     "source_hidden": true
    }
   },
   "outputs": [
    {
     "data": {
      "image/png": "[encoded data removed]",
      "text/plain": [
       "<Figure size 432x288 with 1 Axes>"
      ]
     },
     "metadata": {
      "needs_background": "light"
     },
     "output_type": "display_data"
    }
   ],
   "source": [
    "plt.figure()\n",
    "xs = [res for res in map(np.mean, bins)]\n",
    "plt.plot(xs, xs, linestyle='--', color='k')\n",
    "\n",
    "ys = []\n",
    "for idx, bin_ in enumerate(bins):\n",
    "    binned_sample = binned_samples[(bin_[0] <= binned_samples['adj_proba'].values) &\n",
    "                                   (binned_samples['adj_proba'].values < bin_[1])]\n",
    "    ys.append(np.sum(binned_sample['score'] == 1)/np.sum(binned_sample['score'] >= 0))\n",
    "plt.plot(xs, ys, label='All', color='k')\n",
    "\n",
    "for cargo in binned_samples['cargo'].unique():\n",
    "    ys = []\n",
    "    for idx, bin_ in enumerate(bins):\n",
    "        binned_sample = binned_samples[(bin_[0] <= binned_samples['adj_proba'].values) &\n",
    "                                       (binned_samples['adj_proba'].values < bin_[1]) &\n",
    "                                       (binned_samples['cargo'] == cargo)]\n",
    "        ys.append(np.sum(binned_sample['score'] == 1)/np.sum(binned_sample['score'] >= 0))\n",
    "    plt.plot(xs, ys, label=cargo)\n",
    "    \n",
    "plt.legend()\n",
    "plt.xlabel('Bin Center')\n",
    "plt.ylabel('Fraction of Events Scored as Puff')\n",
    "plt.show()"
   ]
  },
  {
   "cell_type": "markdown",
   "metadata": {},
   "source": [
    "# Labeled Sample"
   ]
  },
  {
   "cell_type": "code",
   "execution_count": 11,
   "metadata": {},
   "outputs": [],
   "source": [
    "labeled_dir = 'data'"
   ]
  },
  {
   "cell_type": "code",
   "execution_count": 3,
   "metadata": {},
   "outputs": [],
   "source": [
    "files = os.listdir(labeled_dir)\n",
    "labeled_sample = pd.read_csv('labeled_sample-adj_proba.csv', index_col=0)"
   ]
  },
  {
   "cell_type": "code",
   "execution_count": 6,
   "metadata": {},
   "outputs": [],
   "source": [
    "logfile = '/Volumes/Coatamer/Users/weinberz/UM Drive/OPP/OPP_scramble.log'\n",
    "labeled_sample['cargo'] = [get_cargo_id(cell, logfile) for cell in labeled_sample['cell']]"
   ]
  },
  {
   "cell_type": "code",
   "execution_count": 9,
   "metadata": {},
   "outputs": [],
   "source": [
    "np.random.seed(237)\n",
    "bins = [[0, 0.1], [0.1, 0.2], [0.2, 0.3], [0.3, 0.4], [0.4, 0.5], [0.5, 0.6], [0.6, 0.7], [0.7, 0.8], [0.8, 0.9], [0.9, 1.0]]\n",
    "n_samples = [36,  64,  84,  96, 100, 100,  96,  84,  64,  36]\n",
    "\n",
    "binned_labeled_samples = []\n",
    "for cargo in labeled_sample['cargo'].unique():\n",
    "    cargo_sample = labeled_sample[labeled_sample['cargo']==cargo]\n",
    "    for idx, bin_ in enumerate(bins):\n",
    "        binned_sample = cargo_sample[(bin_[0] <= cargo_sample['adj_proba'].values) &\n",
    "                                     (cargo_sample['adj_proba'].values < bin_[1])]\n",
    "        replacement = len(binned_sample) < n_samples[idx]\n",
    "        binned_sample = binned_sample.iloc[np.random.choice(len(binned_sample), size=n_samples[idx], replace=replacement)]\n",
    "        binned_labeled_samples.append(binned_sample[['cell', 'particle', 'adj_proba', 'cargo']])\n",
    "\n",
    "binned_labeled_samples = pd.concat(binned_labeled_samples, ignore_index = True)\n",
    "binned_labeled_samples['score'] = None"
   ]
  },
  {
   "cell_type": "code",
   "execution_count": 12,
   "metadata": {},
   "outputs": [
    {
     "data": {
      "application/vnd.jupyter.widget-view+json": {
       "model_id": "3dfc9f9ff1dd4319adc2d2ad3a2e8470",
       "version_major": 2,
       "version_minor": 0
      },
      "text/plain": [
       "VBox(children=(VBox(children=(HBox(children=(Label(value=''), Label(value=''))), HBox(children=(Button(descrip…"
      ]
     },
     "metadata": {},
     "output_type": "display_data"
    }
   ],
   "source": [
    "np.random.seed(237)\n",
    "subsample = binned_labeled_samples.loc[~(binned_labeled_samples['score'] >= 0), :]\n",
    "cell_label = widgets.Label(value='')\n",
    "particle_label = widgets.Label(value='')\n",
    "labels = widgets.HBox([cell_label, particle_label])\n",
    "\n",
    "centered_layout = widgets.Layout(align_items = 'center')\n",
    "\n",
    "loading_widget = widgets.Label(value='Loading...')\n",
    "\n",
    "puff_butt = widgets.Button(description='Puff!',\n",
    "                           disabled=False,\n",
    "                           button_style='',\n",
    "                           tooltips='Puff',\n",
    "                           icons='check')\n",
    "np_butt = widgets.Button(description='Nonpuff!',\n",
    "                           disabled=False,\n",
    "                           button_style='',\n",
    "                           tooltips='Nonpuff',\n",
    "                           icons='times')\n",
    "score_butt = widgets.HBox([np_butt, puff_butt])\n",
    "\n",
    "header = widgets.VBox([labels, score_butt], layout=centered_layout)\n",
    "summary_display = widgets.HBox([loading_widget])\n",
    "full_display = widgets.VBox([header, summary_display], layout=centered_layout)\n",
    "display(full_display)\n",
    "\n",
    "def load_next_cell():\n",
    "    global events\n",
    "    global cells\n",
    "    \n",
    "    cell = next(cells, None)\n",
    "    if cell is None:\n",
    "        loading_widget.value = \"You're done! Time to go home!\"\n",
    "        summary_display.children = [loading_widget]\n",
    "    else:\n",
    "        loading_widget.value = \"Getting new cell...\"\n",
    "        summary_display.children = [loading_widget]\n",
    "        cell_label.value = cell\n",
    "        intensities = pd.read_csv(labeled_dir + os.sep + cell + '_intensities.csv')\n",
    "        events = [intensities.loc[intensities['particle'] == particle, :]\n",
    "                  for particle in subsample.loc[subsample['cell'] == cell_label.value, 'particle'].unique()]\n",
    "        np.random.shuffle(events)\n",
    "        events = iter(events)\n",
    "\n",
    "def display_and_load():\n",
    "    global events\n",
    "    \n",
    "    event = next(events, None)\n",
    "    if event is None:\n",
    "        load_next_cell()\n",
    "        event = next(events)\n",
    "    \n",
    "    loading_widget.value = (\"Loading event with length %d...\" % len(event['frame'].unique()))\n",
    "    summary_display.children = [loading_widget]\n",
    "    particle = event['particle'].values[0]\n",
    "    particle_label.value = str(particle)\n",
    "    summary_widgets = lib.display.plot_summary(event)\n",
    "    summary_display.children = [widgets.VBox([widgets.HBox(summary_widgets[:2]), \n",
    "                                             summary_widgets[2]], layout=centered_layout)]\n",
    "\n",
    "def call_puff(b):\n",
    "    binned_labeled_samples.loc[(binned_labeled_samples['particle'] == int(particle_label.value)) &\n",
    "                       (binned_labeled_samples['cell'] == cell_label.value), 'score'] = 1\n",
    "    display_and_load()\n",
    "\n",
    "def call_np(b):\n",
    "    binned_labeled_samples.loc[(binned_labeled_samples['particle'] == int(particle_label.value)) &\n",
    "                       (binned_labeled_samples['cell'] == cell_label.value), 'score'] = 0\n",
    "    display_and_load()\n",
    "\n",
    "puff_butt.on_click(call_puff)\n",
    "np_butt.on_click(call_np)\n",
    "\n",
    "cells = [cell for cell in subsample['cell'].unique()]\n",
    "np.random.shuffle(cells)\n",
    "cells = iter(cells)\n",
    "events = iter(())\n",
    "\n",
    "display_and_load()"
   ]
  },
  {
   "cell_type": "code",
   "execution_count": 18,
   "metadata": {},
   "outputs": [],
   "source": [
    "binned_labeled_samples.to_csv('binned_labeled_samples_20191121.csv')"
   ]
  },
  {
   "cell_type": "code",
   "execution_count": 16,
   "metadata": {},
   "outputs": [
    {
     "name": "stderr",
     "output_type": "stream",
     "text": [
      "/Volumes/Coatamer/Users/weinberz/miniconda3/envs/py37/lib/python3.7/site-packages/ipykernel_launcher.py:18: RuntimeWarning: invalid value encountered in long_scalars\n"
     ]
    },
    {
     "data": {
      "image/png": "[encoded data removed]",
      "text/plain": [
       "<Figure size 432x288 with 1 Axes>"
      ]
     },
     "metadata": {
      "needs_background": "light"
     },
     "output_type": "display_data"
    }
   ],
   "source": [
    "plt.figure()\n",
    "xs = [res for res in map(np.mean, bins)]\n",
    "plt.plot(xs, xs, linestyle='--', color='k')\n",
    "\n",
    "ys = []\n",
    "for idx, bin_ in enumerate(bins):\n",
    "    binned_sample = binned_labeled_samples[(bin_[0] <= binned_labeled_samples['adj_proba'].values) &\n",
    "                                   (binned_labeled_samples['adj_proba'].values < bin_[1])]\n",
    "    ys.append(np.sum(binned_sample['score'] == 1)/np.sum(binned_sample['score'] >= 0))\n",
    "plt.plot(xs, ys, label='All', color='k')\n",
    "\n",
    "for cargo in binned_labeled_samples['cargo'].unique():\n",
    "    ys = []\n",
    "    for idx, bin_ in enumerate(bins):\n",
    "        binned_sample = binned_labeled_samples[(bin_[0] <= binned_labeled_samples['adj_proba'].values) &\n",
    "                                       (binned_labeled_samples['adj_proba'].values < bin_[1]) &\n",
    "                                       (binned_labeled_samples['cargo'] == cargo)]\n",
    "        ys.append(np.sum(binned_sample['score'] == 1)/np.sum(binned_sample['score'] >= 0))\n",
    "    plt.plot(xs, ys, label=cargo)\n",
    "    \n",
    "plt.legend()\n",
    "plt.xlabel('Bin Center')\n",
    "plt.ylabel('Fraction of Events Scored as Puff')\n",
    "plt.show()"
   ]
  }
 ],
 "metadata": {
  "kernelspec": {
   "display_name": "Python [conda env:py37] *",
   "language": "python",
   "name": "conda-env-py37-py"
  },
  "language_info": {
   "codemirror_mode": {
    "name": "ipython",
    "version": 3
   },
   "file_extension": ".py",
   "mimetype": "text/x-python",
   "name": "python",
   "nbconvert_exporter": "python",
   "pygments_lexer": "ipython3",
   "version": "3.7.3"
  }
 },
 "nbformat": 4,
 "nbformat_minor": 4
}
