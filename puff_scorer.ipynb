{
 "cells": [
  {
   "cell_type": "code",
   "execution_count": 1,
   "metadata": {},
   "outputs": [],
   "source": [
    "import lib.display\n",
    "import numpy as np\n",
    "import pandas as pd\n",
    "import seaborn as sns\n",
    "import os\n",
    "import re\n",
    "\n",
    "import joblib\n",
    "\n",
    "from sklearn.ensemble import RandomForestClassifier\n",
    "\n",
    "from matplotlib import pyplot as plt\n",
    "from matplotlib import animation\n",
    "from skimage import transform\n",
    "from tqdm.auto import tqdm\n",
    "from IPython.display import HTML, clear_output\n",
    "import ipywidgets as widgets\n",
    "\n",
    "from math import floor"
   ]
  },
  {
   "cell_type": "code",
   "execution_count": 3,
   "metadata": {},
   "outputs": [],
   "source": [
    "import rpy2\n",
    "from rpy2.robjects import numpy2ri\n",
    "from rpy2.robjects import pandas2ri\n",
    "numpy2ri.activate()\n",
    "pandas2ri.activate()\n",
    "%load_ext rpy2.ipython"
   ]
  },
  {
   "cell_type": "code",
   "execution_count": 2,
   "metadata": {},
   "outputs": [
    {
     "ename": "FileNotFoundError",
     "evalue": "[Errno 2] No such file or directory: '/Users/weinberz/UM Drive/50Hz Puffs/Analysis/OPP'",
     "output_type": "error",
     "traceback": [
      "\u001b[0;31m---------------------------------------------------------------------------\u001b[0m",
      "\u001b[0;31mFileNotFoundError\u001b[0m                         Traceback (most recent call last)",
      "\u001b[0;32m<ipython-input-2-a93a112a8b83>\u001b[0m in \u001b[0;36m<module>\u001b[0;34m\u001b[0m\n\u001b[1;32m      1\u001b[0m \u001b[0mlogfile\u001b[0m \u001b[0;34m=\u001b[0m \u001b[0;34m'/Users/weinberz/Desktop/OPP_scramble.log'\u001b[0m\u001b[0;34m\u001b[0m\u001b[0;34m\u001b[0m\u001b[0m\n\u001b[1;32m      2\u001b[0m \u001b[0mbasedir\u001b[0m \u001b[0;34m=\u001b[0m \u001b[0;34m'/Users/weinberz/UM Drive/50Hz Puffs/Analysis/OPP'\u001b[0m\u001b[0;34m\u001b[0m\u001b[0;34m\u001b[0m\u001b[0m\n\u001b[0;32m----> 3\u001b[0;31m \u001b[0mfiles\u001b[0m \u001b[0;34m=\u001b[0m \u001b[0mos\u001b[0m\u001b[0;34m.\u001b[0m\u001b[0mlistdir\u001b[0m\u001b[0;34m(\u001b[0m\u001b[0mbasedir\u001b[0m\u001b[0;34m)\u001b[0m\u001b[0;34m\u001b[0m\u001b[0;34m\u001b[0m\u001b[0m\n\u001b[0m\u001b[1;32m      4\u001b[0m \u001b[0mexcludes\u001b[0m \u001b[0;34m=\u001b[0m \u001b[0;34m[\u001b[0m\u001b[0;34m'0IYVHRNA'\u001b[0m\u001b[0;34m,\u001b[0m\u001b[0;34m'19CC75ZU'\u001b[0m\u001b[0;34m,\u001b[0m\u001b[0;34m'2TZWB6CN'\u001b[0m\u001b[0;34m,\u001b[0m\u001b[0;34m'3W70AV4V'\u001b[0m\u001b[0;34m]\u001b[0m\u001b[0;34m\u001b[0m\u001b[0;34m\u001b[0m\u001b[0m\n\u001b[1;32m      5\u001b[0m \u001b[0mmovies_list\u001b[0m \u001b[0;34m=\u001b[0m \u001b[0;34m[\u001b[0m\u001b[0mf\u001b[0m \u001b[0;32mfor\u001b[0m \u001b[0mf\u001b[0m \u001b[0;32min\u001b[0m \u001b[0mfiles\u001b[0m \u001b[0;32mif\u001b[0m \u001b[0;34m'features'\u001b[0m \u001b[0;32min\u001b[0m \u001b[0mf\u001b[0m\u001b[0;34m]\u001b[0m\u001b[0;34m\u001b[0m\u001b[0;34m\u001b[0m\u001b[0m\n",
      "\u001b[0;31mFileNotFoundError\u001b[0m: [Errno 2] No such file or directory: '/Users/weinberz/UM Drive/50Hz Puffs/Analysis/OPP'"
     ]
    }
   ],
   "source": [
    "logfile = '/Users/weinberz/Desktop/OPP_scramble.log'\n",
    "basedir = '/Users/weinberz/UM Drive/50Hz Puffs/Analysis/OPP'\n",
    "files = os.listdir(basedir)\n",
    "excludes = ['0IYVHRNA','19CC75ZU','2TZWB6CN','3W70AV4V']\n",
    "movies_list = [f for f in files if 'features' in f]\n",
    "movies_list = [m for m in movies_list if m.split('.')[0] not in excludes]"
   ]
  },
  {
   "cell_type": "code",
   "execution_count": 9,
   "metadata": {},
   "outputs": [],
   "source": [
    "def get_cargo_id(cell, logfile):\n",
    "    content = open(logfile,'r').read()\n",
    "\n",
    "    p = re.compile(\"(tfr|b2|mor).*\"+cell+\".*?\\n\")\n",
    "    res = p.search(content)\n",
    "    if res is not None:\n",
    "        if res.group(1) == 'b2':\n",
    "            return('B2')\n",
    "        elif res.group(1) == 'mor':\n",
    "            return('MOR')\n",
    "        elif res.group(1) == 'tfr':\n",
    "            return('TfR')\n",
    "    \n",
    "    raise NameError('Cell name not found in logfile.')"
   ]
  },
  {
   "cell_type": "markdown",
   "metadata": {},
   "source": [
    "# Unlabeled Sample"
   ]
  },
  {
   "cell_type": "code",
   "execution_count": 4,
   "metadata": {},
   "outputs": [],
   "source": [
    "features_list = []\n",
    "for movie in movies_list:\n",
    "    cell = movie.split('_')[0]\n",
    "    features = pd.read_csv(basedir + os.sep + movie, index_col=0)\n",
    "    features.loc[:, 'cell'] = cell\n",
    "    features.loc[:, 'cargo'] =  get_cargo_id(cell, logfile)\n",
    "    features_list.append(features)\n",
    "    \n",
    "sample = pd.concat(features_list, ignore_index=True)"
   ]
  },
  {
   "cell_type": "code",
   "execution_count": 6,
   "metadata": {},
   "outputs": [],
   "source": [
    "training_fields = ['conv_perim', 'conv_area', 'lifetime_s',\n",
    "    'randomness_s1', 'randomness_s2', 'cc11', 'cc12', 'cc13', 'cc21',\n",
    "    'cc22', 'cc23', 'deltaf', 'tau', 'resid_dist', 'residuals_median',\n",
    "    'residuals_std', 'snr_median', 'snr_std']\n",
    "\n",
    "classifier = joblib.load('global_classifier.joblib')\n",
    "new_pred_probs = np.zeros(len(sample))\n",
    "ww = (1 - np.mean(labeled_sample['puff']))/np.mean(labeled_sample['puff'])\n",
    "for tt in classifier.estimators_:\n",
    "    tree_pred = tt.predict_proba(sample[training_fields])[:,1]\n",
    "    new_pred_probs = new_pred_probs + tree_pred/(tree_pred + ww - ww*tree_pred)\n",
    "new_pred_probs /= (1.0*len(classifier.estimators_))\n",
    "sample['adj_proba'] = new_pred_probs"
   ]
  },
  {
   "cell_type": "code",
   "execution_count": 12,
   "metadata": {},
   "outputs": [],
   "source": [
    "np.random.seed(237)\n",
    "bins = [[0, 0.1], [0.1, 0.2], [0.2, 0.3], [0.3, 0.4], [0.4, 0.5], [0.5, 0.6], [0.6, 0.7], [0.7, 0.8], [0.8, 0.9], [0.9, 1.0]]\n",
    "n_samples = [36,  64,  84,  96, 100, 100,  96,  84,  64,  36]"
   ]
  },
  {
   "cell_type": "code",
   "execution_count": 13,
   "metadata": {},
   "outputs": [],
   "source": [
    "binned_samples = []\n",
    "for cargo in sample['cargo'].unique():\n",
    "    cargo_sample = sample[sample['cargo']==cargo]\n",
    "    for idx, bin_ in enumerate(bins):\n",
    "        binned_sample = cargo_sample[(bin_[0] <= cargo_sample['adj_proba'].values) &\n",
    "                                     (cargo_sample['adj_proba'].values < bin_[1])]\n",
    "        replacement = len(binned_sample) < n_samples[idx]\n",
    "        binned_sample = binned_sample.iloc[np.random.choice(len(binned_sample), size=n_samples[idx], replace=replacement)]\n",
    "        binned_samples.append(binned_sample[['cell', 'particle', 'adj_proba', 'cargo']])\n",
    "\n",
    "binned_samples = pd.concat(binned_samples, ignore_index = True)\n",
    "binned_samples['score'] = None"
   ]
  },
  {
   "cell_type": "code",
   "execution_count": 64,
   "metadata": {},
   "outputs": [
    {
     "data": {
      "application/vnd.jupyter.widget-view+json": {
       "model_id": "c19270ee39804592aa1475886325fbff",
       "version_major": 2,
       "version_minor": 0
      },
      "text/plain": [
       "VBox(children=(VBox(children=(HBox(children=(Label(value=''), Label(value=''))), HBox(children=(Button(descrip…"
      ]
     },
     "metadata": {},
     "output_type": "display_data"
    }
   ],
   "source": [
    "np.random.seed(237)\n",
    "subsample = binned_samples.loc[~(binned_samples['score'] >= 0), :]\n",
    "cell_label = widgets.Label(value='')\n",
    "particle_label = widgets.Label(value='')\n",
    "labels = widgets.HBox([cell_label, particle_label])\n",
    "\n",
    "centered_layout = widgets.Layout(align_items = 'center')\n",
    "\n",
    "loading_widget = widgets.Label(value='Loading...')\n",
    "\n",
    "puff_butt = widgets.Button(description='Puff!',\n",
    "                           disabled=False,\n",
    "                           button_style='',\n",
    "                           tooltips='Puff',\n",
    "                           icons='check')\n",
    "np_butt = widgets.Button(description='Nonpuff!',\n",
    "                           disabled=False,\n",
    "                           button_style='',\n",
    "                           tooltips='Nonpuff',\n",
    "                           icons='times')\n",
    "score_butt = widgets.HBox([np_butt, puff_butt])\n",
    "\n",
    "header = widgets.VBox([labels, score_butt], layout=centered_layout)\n",
    "summary_display = widgets.HBox([loading_widget])\n",
    "full_display = widgets.VBox([header, summary_display], layout=centered_layout)\n",
    "display(full_display)\n",
    "\n",
    "def load_next_cell():\n",
    "    global events\n",
    "    global cells\n",
    "    \n",
    "    cell = next(cells, None)\n",
    "    if cell is None:\n",
    "        loading_widget.value = \"You're done! Time to go home!\"\n",
    "        summary_display.children = [loading_widget]\n",
    "    else:\n",
    "        loading_widget.value = \"Getting new cell...\"\n",
    "        summary_display.children = [loading_widget]\n",
    "        cell_label.value = cell\n",
    "        intensities = pd.read_csv(basedir + os.sep + cell + '_intensities.csv')\n",
    "        events = [intensities.loc[intensities['particle'] == particle, :]\n",
    "                  for particle in subsample.loc[subsample['cell'] == cell_label.value, 'particle'].unique()]\n",
    "        np.random.shuffle(events)\n",
    "        events = iter(events)\n",
    "\n",
    "def display_and_load():\n",
    "    global events\n",
    "    \n",
    "    event = next(events, None)\n",
    "    if event is None:\n",
    "        load_next_cell()\n",
    "        event = next(events)\n",
    "    \n",
    "    loading_widget.value = (\"Loading event with length %d...\" % len(event['frame'].unique()))\n",
    "    summary_display.children = [loading_widget]\n",
    "    particle = event['particle'].values[0]\n",
    "    particle_label.value = str(particle)\n",
    "    summary_widgets = lib.display.plot_summary(event)\n",
    "    summary_display.children = [widgets.VBox([widgets.HBox(summary_widgets[:2]), \n",
    "                                             summary_widgets[2]], layout=centered_layout)]\n",
    "\n",
    "def call_puff(b):\n",
    "    binned_samples.loc[(binned_samples['particle'] == int(particle_label.value)) &\n",
    "                       (binned_samples['cell'] == cell_label.value), 'score'] = 1\n",
    "    display_and_load()\n",
    "\n",
    "def call_np(b):\n",
    "    binned_samples.loc[(binned_samples['particle'] == int(particle_label.value)) &\n",
    "                       (binned_samples['cell'] == cell_label.value), 'score'] = 0\n",
    "    display_and_load()\n",
    "\n",
    "puff_butt.on_click(call_puff)\n",
    "np_butt.on_click(call_np)\n",
    "\n",
    "cells = [cell for cell in subsample['cell'].unique()]\n",
    "np.random.shuffle(cells)\n",
    "cells = iter(cells)\n",
    "events = iter(())\n",
    "\n",
    "display_and_load()"
   ]
  },
  {
   "cell_type": "code",
   "execution_count": 36,
   "metadata": {},
   "outputs": [],
   "source": [
    "binned_samples = pd.read_csv('scored_binned_samples-20191121.csv', index_col=0)#\n",
    "#binned_samples.to_csv('scored_binned_samples-20191121.csv')"
   ]
  },
  {
   "cell_type": "code",
   "execution_count": 37,
   "metadata": {},
   "outputs": [
    {
     "data": {
      "text/plain": [
       "2280"
      ]
     },
     "execution_count": 37,
     "metadata": {},
     "output_type": "execute_result"
    }
   ],
   "source": [
    "np.sum(binned_samples['score']>=0)"
   ]
  },
  {
   "cell_type": "code",
   "execution_count": 38,
   "metadata": {},
   "outputs": [
    {
     "data": {
      "image/png": "[encoded data removed]",
      "text/plain": [
       "<Figure size 432x288 with 1 Axes>"
      ]
     },
     "metadata": {
      "needs_background": "light"
     },
     "output_type": "display_data"
    }
   ],
   "source": [
    "plt.figure()\n",
    "xs = [res for res in map(np.mean, bins)]\n",
    "plt.plot(xs, xs, linestyle='--', color='k')\n",
    "\n",
    "ys = []\n",
    "for idx, bin_ in enumerate(bins):\n",
    "    binned_sample = binned_samples[(bin_[0] <= binned_samples['adj_proba'].values) &\n",
    "                                   (binned_samples['adj_proba'].values < bin_[1])]\n",
    "    ys.append(np.sum(binned_sample['score'] == 1)/np.sum(binned_sample['score'] >= 0))\n",
    "plt.plot(xs, ys, label='All', color='k')\n",
    "\n",
    "for cargo in binned_samples['cargo'].unique():\n",
    "    ys = []\n",
    "    for idx, bin_ in enumerate(bins):\n",
    "        binned_sample = binned_samples[(bin_[0] <= binned_samples['adj_proba'].values) &\n",
    "                                       (binned_samples['adj_proba'].values < bin_[1]) &\n",
    "                                       (binned_samples['cargo'] == cargo)]\n",
    "        ys.append(np.sum(binned_sample['score'] == 1)/np.sum(binned_sample['score'] >= 0))\n",
    "    plt.plot(xs, ys, label=cargo)\n",
    "    \n",
    "plt.legend()\n",
    "plt.xlabel('Bin Center')\n",
    "plt.ylabel('Fraction of Events Scored as Puff')\n",
    "plt.show()"
   ]
  },
  {
   "cell_type": "markdown",
   "metadata": {},
   "source": [
    "# Labeled Sample"
   ]
  },
  {
   "cell_type": "code",
   "execution_count": 7,
   "metadata": {},
   "outputs": [],
   "source": [
    "labeled_dir = 'data'"
   ]
  },
  {
   "cell_type": "code",
   "execution_count": 3,
   "metadata": {},
   "outputs": [],
   "source": [
    "files = os.listdir(labeled_dir)\n",
    "labeled_sample = pd.read_csv('labeled_sample-adj_proba.csv', index_col=0)"
   ]
  },
  {
   "cell_type": "code",
   "execution_count": 6,
   "metadata": {},
   "outputs": [],
   "source": [
    "logfile = '/Volumes/Coatamer/Users/weinberz/UM Drive/OPP/OPP_scramble.log'\n",
    "labeled_sample['cargo'] = [get_cargo_id(cell, logfile) for cell in labeled_sample['cell']]"
   ]
  },
  {
   "cell_type": "code",
   "execution_count": 22,
   "metadata": {},
   "outputs": [],
   "source": [
    "np.random.seed(237)\n",
    "bins = [[0, 0.1], [0.1, 0.2], [0.2, 0.3], [0.3, 0.4], [0.4, 0.5], [0.5, 0.6], [0.6, 0.7], [0.7, 0.8], [0.8, 0.9], [0.9, 1.0]]\n",
    "n_samples = [36,  64,  84,  96, 100, 100,  96,  84,  64,  36]"
   ]
  },
  {
   "cell_type": "code",
   "execution_count": 9,
   "metadata": {},
   "outputs": [],
   "source": [
    "binned_labeled_samples = []\n",
    "for cargo in labeled_sample['cargo'].unique():\n",
    "    cargo_sample = labeled_sample[labeled_sample['cargo']==cargo]\n",
    "    for idx, bin_ in enumerate(bins):\n",
    "        binned_sample = cargo_sample[(bin_[0] <= cargo_sample['adj_proba'].values) &\n",
    "                                     (cargo_sample['adj_proba'].values < bin_[1])]\n",
    "        replacement = len(binned_sample) < n_samples[idx]\n",
    "        binned_sample = binned_sample.iloc[np.random.choice(len(binned_sample), size=n_samples[idx], replace=replacement)]\n",
    "        binned_labeled_samples.append(binned_sample[['cell', 'particle', 'adj_proba', 'cargo']])\n",
    "\n",
    "binned_labeled_samples = pd.concat(binned_labeled_samples, ignore_index = True)\n",
    "binned_labeled_samples['score'] = None"
   ]
  },
  {
   "cell_type": "code",
   "execution_count": 8,
   "metadata": {},
   "outputs": [
    {
     "data": {
      "application/vnd.jupyter.widget-view+json": {
       "model_id": "c17c930871124cfeb20d9c27885e3081",
       "version_major": 2,
       "version_minor": 0
      },
      "text/plain": [
       "VBox(children=(VBox(children=(HBox(children=(Label(value=''), Label(value=''))), HBox(children=(Button(descrip…"
      ]
     },
     "metadata": {},
     "output_type": "display_data"
    }
   ],
   "source": [
    "np.random.seed(237)\n",
    "subsample = binned_labeled_samples.loc[~(binned_labeled_samples['score'] >= 0), :]\n",
    "cell_label = widgets.Label(value='')\n",
    "particle_label = widgets.Label(value='')\n",
    "labels = widgets.HBox([cell_label, particle_label])\n",
    "\n",
    "centered_layout = widgets.Layout(align_items = 'center')\n",
    "\n",
    "loading_widget = widgets.Label(value='Loading...')\n",
    "\n",
    "puff_butt = widgets.Button(description='Puff!',\n",
    "                           disabled=False,\n",
    "                           button_style='',\n",
    "                           tooltips='Puff',\n",
    "                           icons='check')\n",
    "np_butt = widgets.Button(description='Nonpuff!',\n",
    "                           disabled=False,\n",
    "                           button_style='',\n",
    "                           tooltips='Nonpuff',\n",
    "                           icons='times')\n",
    "score_butt = widgets.HBox([np_butt, puff_butt])\n",
    "\n",
    "header = widgets.VBox([labels, score_butt], layout=centered_layout)\n",
    "summary_display = widgets.HBox([loading_widget])\n",
    "full_display = widgets.VBox([header, summary_display], layout=centered_layout)\n",
    "display(full_display)\n",
    "\n",
    "def load_next_cell():\n",
    "    global events\n",
    "    global cells\n",
    "    \n",
    "    cell = next(cells, None)\n",
    "    if cell is None:\n",
    "        loading_widget.value = \"You're done! Time to go home!\"\n",
    "        summary_display.children = [loading_widget]\n",
    "    else:\n",
    "        loading_widget.value = \"Getting new cell...\"\n",
    "        summary_display.children = [loading_widget]\n",
    "        cell_label.value = cell\n",
    "        intensities = pd.read_csv(labeled_dir + os.sep + cell + '_intensities.csv')\n",
    "        events = [intensities.loc[intensities['particle'] == particle, :]\n",
    "                  for particle in subsample.loc[subsample['cell'] == cell_label.value, 'particle'].unique()]\n",
    "        np.random.shuffle(events)\n",
    "        events = iter(events)\n",
    "\n",
    "def display_and_load():\n",
    "    global events\n",
    "    \n",
    "    event = next(events, None)\n",
    "    if event is None:\n",
    "        load_next_cell()\n",
    "        event = next(events)\n",
    "    \n",
    "    loading_widget.value = (\"Loading event with length %d...\" % len(event['frame'].unique()))\n",
    "    summary_display.children = [loading_widget]\n",
    "    particle = event['particle'].values[0]\n",
    "    particle_label.value = str(particle)\n",
    "    summary_widgets = lib.display.plot_summary(event)\n",
    "    summary_display.children = [widgets.VBox([widgets.HBox(summary_widgets[:2]), \n",
    "                                             summary_widgets[2]], layout=centered_layout)]\n",
    "\n",
    "def call_puff(b):\n",
    "    binned_labeled_samples.loc[(binned_labeled_samples['particle'] == int(particle_label.value)) &\n",
    "                       (binned_labeled_samples['cell'] == cell_label.value), 'score'] = 1\n",
    "    display_and_load()\n",
    "\n",
    "def call_np(b):\n",
    "    binned_labeled_samples.loc[(binned_labeled_samples['particle'] == int(particle_label.value)) &\n",
    "                       (binned_labeled_samples['cell'] == cell_label.value), 'score'] = 0\n",
    "    display_and_load()\n",
    "\n",
    "puff_butt.on_click(call_puff)\n",
    "np_butt.on_click(call_np)\n",
    "\n",
    "cells = [cell for cell in subsample['cell'].unique()]\n",
    "np.random.shuffle(cells)\n",
    "cells = iter(cells)\n",
    "events = iter(())\n",
    "\n",
    "display_and_load()"
   ]
  },
  {
   "cell_type": "code",
   "execution_count": 31,
   "metadata": {},
   "outputs": [],
   "source": [
    "#binned_labeled_samples = pd.read_csv('binned_labeled_samples_20191121.csv', index_col=0)\n",
    "binned_labeled_samples.to_csv('binned_labeled_samples_20191121.csv')"
   ]
  },
  {
   "cell_type": "code",
   "execution_count": 32,
   "metadata": {},
   "outputs": [
    {
     "data": {
      "text/plain": [
       "2280"
      ]
     },
     "execution_count": 32,
     "metadata": {},
     "output_type": "execute_result"
    }
   ],
   "source": [
    "np.sum(binned_labeled_samples['score'] >= 0)"
   ]
  },
  {
   "cell_type": "code",
   "execution_count": 35,
   "metadata": {},
   "outputs": [
    {
     "data": {
      "image/png": "[encoded data removed]",
      "text/plain": [
       "<Figure size 432x288 with 1 Axes>"
      ]
     },
     "metadata": {
      "needs_background": "light"
     },
     "output_type": "display_data"
    }
   ],
   "source": [
    "plt.figure()\n",
    "xs = [res for res in map(np.mean, bins)]\n",
    "plt.plot(xs, xs, linestyle='--', color='k')\n",
    "\n",
    "ys = []\n",
    "for idx, bin_ in enumerate(bins):\n",
    "    binned_sample = binned_labeled_samples[(bin_[0] <= binned_labeled_samples['adj_proba'].values) &\n",
    "                                   (binned_labeled_samples['adj_proba'].values < bin_[1])]\n",
    "    ys.append(np.sum(binned_sample['score'] == 1)/np.sum(binned_sample['score'] >= 0))\n",
    "plt.plot(xs, ys, label='All', color='k')\n",
    "\n",
    "for cargo in binned_labeled_samples['cargo'].unique():\n",
    "    ys = []\n",
    "    for idx, bin_ in enumerate(bins):\n",
    "        binned_sample = binned_labeled_samples[(bin_[0] <= binned_labeled_samples['adj_proba'].values) &\n",
    "                                       (binned_labeled_samples['adj_proba'].values < bin_[1]) &\n",
    "                                       (binned_labeled_samples['cargo'] == cargo)]\n",
    "        ys.append(np.sum(binned_sample['score'] == 1)/np.sum(binned_sample['score'] >= 0))\n",
    "    plt.plot(xs, ys, label=cargo)\n",
    "    \n",
    "plt.legend()\n",
    "plt.xlabel('Bin Center')\n",
    "plt.ylabel('Fraction of Events Scored as Puff')\n",
    "plt.title('Manual Calibration of Round Robin Classifier on Labeled Data')\n",
    "plt.show()"
   ]
  },
  {
   "cell_type": "code",
   "execution_count": 45,
   "metadata": {},
   "outputs": [
    {
     "data": {
      "image/png": "[encoded data removed]",
      "text/plain": [
       "<Figure size 1296x360 with 3 Axes>"
      ]
     },
     "metadata": {
      "needs_background": "light"
     },
     "output_type": "display_data"
    }
   ],
   "source": [
    "fig, axs = plt.subplots(nrows=1, ncols=3, figsize=(18,5), sharey=True)\n",
    "\n",
    "xs = [res for res in map(np.mean, bins)]\n",
    "\n",
    "for ax, samples in zip(axs, [binned_labeled_samples, binned_samples]):\n",
    "    ax.plot(xs, xs, linestyle='--', color='k')\n",
    "\n",
    "    ys = []\n",
    "    for idx, bin_ in enumerate(bins):\n",
    "        binned_sample = samples[(bin_[0] <= samples['adj_proba'].values) &\n",
    "                                       (samples['adj_proba'].values < bin_[1])]\n",
    "        ys.append(np.sum(binned_sample['score'] == 1)/np.sum(binned_sample['score'] >= 0))\n",
    "    ax.plot(xs, ys, label='All', color='k')\n",
    "\n",
    "    for cargo in samples['cargo'].unique():\n",
    "        ys = []\n",
    "        for idx, bin_ in enumerate(bins):\n",
    "            binned_sample = samples[(bin_[0] <= samples['adj_proba'].values) &\n",
    "                                           (samples['adj_proba'].values < bin_[1]) &\n",
    "                                           (samples['cargo'] == cargo)]\n",
    "            ys.append(np.sum(binned_sample['score'] == 1)/np.sum(binned_sample['score'] >= 0))\n",
    "        ax.plot(xs, ys, label=cargo)\n",
    "\n",
    "    ax.set_xlabel('Bin Center')\n",
    "    ax.legend()\n",
    "\n",
    "labeled_ys = []\n",
    "unlabeled_ys = []\n",
    "for idx, bin_ in enumerate(bins):\n",
    "    labeled_sample = binned_labeled_samples[(bin_[0] <= binned_labeled_samples['adj_proba'].values) &\n",
    "                                   (binned_labeled_samples['adj_proba'].values < bin_[1])]\n",
    "    labeled_ys.append(np.sum(labeled_sample['score'] == 1)/np.sum(labeled_sample['score'] >= 0))\n",
    "    \n",
    "    unlabeled_sample = binned_samples[(bin_[0] <= binned_samples['adj_proba'].values) &\n",
    "                                   (binned_samples['adj_proba'].values < bin_[1])]\n",
    "    unlabeled_ys.append(np.sum(unlabeled_sample['score'] == 1)/np.sum(unlabeled_sample['score'] >= 0))\n",
    "\n",
    "axs[2].plot(xs, labeled_ys, label='All Labeled', color='b')\n",
    "axs[2].plot(xs, unlabeled_ys, label='All Unlabeled', color='r')\n",
    "axs[2].set_xlabel('Bin Center')\n",
    "axs[0].set_ylabel('Fraction of Events Scored as Puff')\n",
    "    \n",
    "axs[0].set_title('Labeled Sample (Round Robin)')\n",
    "axs[1].set_title('Unlabeled Sample (Global)')\n",
    "axs[2].set_title('Labeled vs Unlabeled')\n",
    "axs[2].legend()\n",
    "plt.show()"
   ]
  },
  {
   "cell_type": "markdown",
   "metadata": {},
   "source": [
    "# Calibration and Resampling"
   ]
  },
  {
   "cell_type": "code",
   "execution_count": 15,
   "metadata": {},
   "outputs": [
    {
     "data": {
      "text/html": [
       "\n",
       "    <span>ListVector with 53 elements.</span>\n",
       "    <table>\n",
       "      <tbody>\n",
       "      \n",
       "      <tr>\n",
       "      <th>\n",
       "        gcv.ubre\n",
       "      </th>\n",
       "      <td>\n",
       "        \n",
       "    <span>FloatVector with 1 elements.</span>\n",
       "    <table>\n",
       "      <tbody>\n",
       "      <tr>\n",
       "      \n",
       "      <td>\n",
       "        -0.358479\n",
       "      </td>\n",
       "      \n",
       "      </tr>\n",
       "      </tbody>\n",
       "    </table>\n",
       "    \n",
       "      </td>\n",
       "      </tr>\n",
       "      \n",
       "      <tr>\n",
       "      <th>\n",
       "        dgcv.ubre\n",
       "      </th>\n",
       "      <td>\n",
       "        \n",
       "    <span>FloatVector with 3 elements.</span>\n",
       "    <table>\n",
       "      <tbody>\n",
       "      <tr>\n",
       "      \n",
       "      <td>\n",
       "        0.004508\n",
       "      </td>\n",
       "      \n",
       "      <td>\n",
       "        -0.000004\n",
       "      </td>\n",
       "      \n",
       "      <td>\n",
       "        -0.000007\n",
       "      </td>\n",
       "      \n",
       "      </tr>\n",
       "      </tbody>\n",
       "    </table>\n",
       "    \n",
       "      </td>\n",
       "      </tr>\n",
       "      \n",
       "      <tr>\n",
       "      <th>\n",
       "        aic\n",
       "      </th>\n",
       "      <td>\n",
       "        \n",
       "    <span>FloatVector with 1 elements.</span>\n",
       "    <table>\n",
       "      <tbody>\n",
       "      <tr>\n",
       "      \n",
       "      <td>\n",
       "        1191.304907\n",
       "      </td>\n",
       "      \n",
       "      </tr>\n",
       "      </tbody>\n",
       "    </table>\n",
       "    \n",
       "      </td>\n",
       "      </tr>\n",
       "      \n",
       "      <tr>\n",
       "      <th>\n",
       "        ...\n",
       "      </th>\n",
       "      <td>\n",
       "        ...\n",
       "      </td>\n",
       "      </tr>\n",
       "      \n",
       "      <tr>\n",
       "      <th>\n",
       "        CPU.time\n",
       "      </th>\n",
       "      <td>\n",
       "        \n",
       "    <span>FloatVector with 5 elements.</span>\n",
       "    <table>\n",
       "      <tbody>\n",
       "      <tr>\n",
       "      \n",
       "      <td>\n",
       "        1.505000\n",
       "      </td>\n",
       "      \n",
       "      <td>\n",
       "        0.226000\n",
       "      </td>\n",
       "      \n",
       "      <td>\n",
       "        1.736000\n",
       "      </td>\n",
       "      \n",
       "      <td>\n",
       "        0.000000\n",
       "      </td>\n",
       "      \n",
       "      <td>\n",
       "        0.000000\n",
       "      </td>\n",
       "      \n",
       "      </tr>\n",
       "      </tbody>\n",
       "    </table>\n",
       "    \n",
       "      </td>\n",
       "      </tr>\n",
       "      \n",
       "      <tr>\n",
       "      <th>\n",
       "        bfgs.info\n",
       "      </th>\n",
       "      <td>\n",
       "        \n",
       "    <span>ListVector with 3 elements.</span>\n",
       "    <table>\n",
       "      <tbody>\n",
       "      \n",
       "      <tr>\n",
       "      <th>\n",
       "        conv\n",
       "      </th>\n",
       "      <td>\n",
       "        \n",
       "    <span>StrVector with 1 elements.</span>\n",
       "    <table>\n",
       "      <tbody>\n",
       "      <tr>\n",
       "      \n",
       "      <td>\n",
       "        'Last step failed to locate a lower point than ol...\n",
       "      </td>\n",
       "      \n",
       "      </tr>\n",
       "      </tbody>\n",
       "    </table>\n",
       "    \n",
       "      </td>\n",
       "      </tr>\n",
       "      \n",
       "      <tr>\n",
       "      <th>\n",
       "        iter\n",
       "      </th>\n",
       "      <td>\n",
       "        \n",
       "    <span>IntVector with 1 elements.</span>\n",
       "    <table>\n",
       "      <tbody>\n",
       "      <tr>\n",
       "      \n",
       "      <td>\n",
       "        3\n",
       "      </td>\n",
       "      \n",
       "      </tr>\n",
       "      </tbody>\n",
       "    </table>\n",
       "    \n",
       "      </td>\n",
       "      </tr>\n",
       "      \n",
       "      <tr>\n",
       "      <th>\n",
       "        grad\n",
       "      </th>\n",
       "      <td>\n",
       "        \n",
       "    <span>FloatVector with 3 elements.</span>\n",
       "    <table>\n",
       "      <tbody>\n",
       "      <tr>\n",
       "      \n",
       "      <td>\n",
       "        0.004508\n",
       "      </td>\n",
       "      \n",
       "      <td>\n",
       "        -0.000004\n",
       "      </td>\n",
       "      \n",
       "      <td>\n",
       "        -0.000007\n",
       "      </td>\n",
       "      \n",
       "      </tr>\n",
       "      </tbody>\n",
       "    </table>\n",
       "    \n",
       "      </td>\n",
       "      </tr>\n",
       "      \n",
       "      </tbody>\n",
       "    </table>\n",
       "    \n",
       "      </td>\n",
       "      </tr>\n",
       "      \n",
       "      <tr>\n",
       "      <th>\n",
       "        method\n",
       "      </th>\n",
       "      <td>\n",
       "        \n",
       "    <span>StrVector with 1 elements.</span>\n",
       "    <table>\n",
       "      <tbody>\n",
       "      <tr>\n",
       "      \n",
       "      <td>\n",
       "        'UBRE'\n",
       "      </td>\n",
       "      \n",
       "      </tr>\n",
       "      </tbody>\n",
       "    </table>\n",
       "    \n",
       "      </td>\n",
       "      </tr>\n",
       "      \n",
       "      </tbody>\n",
       "    </table>\n",
       "    "
      ],
      "text/plain": [
       "R object with classes: ('scam', 'glm', 'lm') mapped to:\n",
       "<ListVector - Python:0x1c3afe7ac8 / R:0x7fc21a7698f0>\n",
       "[FloatVector, FloatVector, FloatVector, StrVector, ..., IntVector, FloatVector, ListVector, StrVector]\n",
       "  gcv.ubre: <class 'rpy2.robjects.vectors.FloatVector'>\n",
       "  R object with classes: ('numeric',) mapped to:\n",
       "<FloatVector - Python:0x1c3b6b94c8 / R:0x7fc21f929558>\n",
       "[-0.358479]\n",
       "  dgcv.ubre: <class 'rpy2.robjects.vectors.FloatVector'>\n",
       "  R object with classes: ('numeric',) mapped to:\n",
       "<FloatVector - Python:0x1c3b6b9708 / R:0x7fc2245e34c8>\n",
       "[0.004508, -0.000004, -0.000007]\n",
       "  aic: <class 'rpy2.robjects.vectors.FloatVector'>\n",
       "  R object with classes: ('numeric',) mapped to:\n",
       "<FloatVector - Python:0x1c3b6b9f88 / R:0x7fc21f929590>\n",
       "[1191.304907]\n",
       "  optimizer: <class 'rpy2.robjects.vectors.StrVector'>\n",
       "  R object with classes: ('character',) mapped to:\n",
       "<StrVector - Python:0x1c3afe7948 / R:0x7fc21f9295c8>\n",
       "['bfgs']\n",
       "...\n",
       "  n.smooth: <class 'rpy2.robjects.vectors.IntVector'>\n",
       "  R object with classes: ('integer',) mapped to:\n",
       "<IntVector - Python:0x1c3aebb648 / R:0x7fc21e838570>\n",
       "[1]\n",
       "  formula: <class 'rpy2.robjects.vectors.FloatVector'>\n",
       "  R object with classes: ('proc_time',) mapped to:\n",
       "<FloatVector - Python:0x1c3aebbe88 / R:0x7fc224630a88>\n",
       "[1.505000, 0.226000, 1.736000, 0.000000, 0.000000]\n",
       "R object with classes: ('scam', 'glm', 'lm') mapped to:\n",
       "<ListVector - Python:0x1c3afe7ac8 / R:0x7fc21a7698f0>\n",
       "[FloatVector, FloatVector, FloatVector, StrVector, ..., IntVector, FloatVector, ListVector, StrVector]\n",
       "  smooth: <class 'rpy2.robjects.vectors.StrVector'>\n",
       "  R object with classes: ('character',) mapped to:\n",
       "<StrVector - Python:0x1c3aebb388 / R:0x7fc21e8386f8>\n",
       "['UBRE']"
      ]
     },
     "execution_count": 15,
     "metadata": {},
     "output_type": "execute_result"
    }
   ],
   "source": [
    "# The following model was generated using Ciaran's calibration_fit_and_sampling.R script\n",
    "rpy2.robjects.r(\"library(scam)\")\n",
    "rpy2.robjects.r(\"cal_gam <- readRDS('cal_gam.RDS')\")"
   ]
  },
  {
   "cell_type": "code",
   "execution_count": 7,
   "metadata": {},
   "outputs": [],
   "source": [
    "labeled_samples = pd.read_csv('labeled_sample-adj_proba.csv', index_col=0)\n",
    "binned_labeled_samples = pd.read_csv('binned_labeled_samples_20191121.csv', index_col=0)"
   ]
  },
  {
   "cell_type": "code",
   "execution_count": 11,
   "metadata": {},
   "outputs": [],
   "source": [
    "logfile = '/Users/weinberz/Desktop/OPP_scramble.log'\n",
    "labeled_samples['cargo'] = [get_cargo_id(cell, logfile) \n",
    "                            for cell in labeled_samples['cell'].values]"
   ]
  },
  {
   "cell_type": "code",
   "execution_count": 16,
   "metadata": {},
   "outputs": [],
   "source": [
    "%%R -i labeled_samples\n",
    "eval_data <- data.frame(cargo = labeled_samples$cargo,\n",
    "                        adj_proba = labeled_samples$adj_proba)\n",
    "cal_prob <- predict(cal_gam, \n",
    "                   newdata = eval_data,\n",
    "                   type=\"response\")"
   ]
  },
  {
   "cell_type": "code",
   "execution_count": 21,
   "metadata": {},
   "outputs": [],
   "source": [
    "labeled_samples['cal_proba'] = numpy2ri.ri2py(rpy2.robjects.globalenv['cal_prob'])"
   ]
  },
  {
   "cell_type": "code",
   "execution_count": 22,
   "metadata": {},
   "outputs": [],
   "source": [
    "labeled_samples.to_csv('labeled_sample-cal_proba.csv')"
   ]
  },
  {
   "cell_type": "code",
   "execution_count": 42,
   "metadata": {},
   "outputs": [],
   "source": [
    "binned_labeled_samples['cal_proba'] = [labeled_samples.loc[(labeled_samples['cell'] == cell) &\n",
    "                                                           (labeled_samples['particle'] == particle),'cal_proba'].values[0]\n",
    "                                       for cell, particle in binned_labeled_samples[['cell','particle']].itertuples(index=False,name=None)]"
   ]
  },
  {
   "cell_type": "code",
   "execution_count": 31,
   "metadata": {},
   "outputs": [],
   "source": [
    "np.random.seed(237)\n",
    "bins = [[0, 0.1], [0.1, 0.2], [0.2, 0.3], [0.3, 0.4], [0.4, 0.5], [0.5, 0.6], [0.6, 0.7], [0.7, 0.8], [0.8, 0.9], [0.9, 1.0]]\n",
    "n_samples = [36,  64,  84,  96, 100, 100,  96,  84,  64,  36]"
   ]
  },
  {
   "cell_type": "code",
   "execution_count": 76,
   "metadata": {},
   "outputs": [
    {
     "name": "stderr",
     "output_type": "stream",
     "text": [
      "/usr/local/anaconda3/envs/py37/lib/python3.7/site-packages/ipykernel_launcher.py:17: SettingWithCopyWarning: \n",
      "A value is trying to be set on a copy of a slice from a DataFrame.\n",
      "Try using .loc[row_indexer,col_indexer] = value instead\n",
      "\n",
      "See the caveats in the documentation: http://pandas.pydata.org/pandas-docs/stable/user_guide/indexing.html#returning-a-view-versus-a-copy\n"
     ]
    }
   ],
   "source": [
    "redrawn_labeled_samples = []\n",
    "for cargo in ['MOR','B2', 'TfR']:\n",
    "    scored_cargo_sample = binned_labeled_samples[binned_labeled_samples['cargo']== cargo]\n",
    "    unscored_cargo_sample = labeled_samples[labeled_samples['cargo']==cargo]\n",
    "    for idx, bin_ in enumerate(bins):\n",
    "        binned_sample = scored_cargo_sample[(bin_[0] <= scored_cargo_sample['cal_proba'].values) &\n",
    "                                            (scored_cargo_sample['cal_proba'].values < bin_[1])]\n",
    "        if len(binned_sample) >= n_samples[idx]:\n",
    "            binned_sample = binned_sample.iloc[np.random.choice(len(binned_sample), size=n_samples[idx], replace=False)]\n",
    "            redrawn_labeled_samples.append(binned_sample[['cell', 'particle', 'cal_proba', 'cargo', 'score']])\n",
    "        else:\n",
    "            redrawn_labeled_samples.append(binned_sample[['cell', 'particle', 'cal_proba', 'cargo', 'score']])\n",
    "            supplement_sample = unscored_cargo_sample[(bin_[0] <= unscored_cargo_sample['cal_proba'].values) &\n",
    "                                            (unscored_cargo_sample['cal_proba'].values < bin_[1])]\n",
    "            if len(supplement_sample) == 0:\n",
    "                continue\n",
    "            supplement_sample['score'] = None\n",
    "            n_supplemental = n_samples[idx]-len(binned_sample)\n",
    "            \n",
    "            if n_supplemental <= len(supplement_sample):\n",
    "                supplement_sample = supplement_sample.iloc[np.random.choice(len(supplement_sample), \n",
    "                                                                        size=n_supplemental,\n",
    "                                                                        replace=False)]\n",
    "            redrawn_labeled_samples.append(supplement_sample[['cell', 'particle', 'cal_proba', 'cargo', 'score']])\n",
    "            \n",
    "\n",
    "redrawn_labeled_samples = pd.concat(redrawn_labeled_samples, ignore_index = True)"
   ]
  },
  {
   "cell_type": "code",
   "execution_count": 79,
   "metadata": {},
   "outputs": [],
   "source": [
    "labeled_dir = 'data'"
   ]
  },
  {
   "cell_type": "code",
   "execution_count": 128,
   "metadata": {},
   "outputs": [
    {
     "data": {
      "application/vnd.jupyter.widget-view+json": {
       "model_id": "73aa3bed2b834c3b940cc230162fa976",
       "version_major": 2,
       "version_minor": 0
      },
      "text/plain": [
       "VBox(children=(VBox(children=(HBox(children=(Label(value=''), Label(value=''))), HBox(children=(Button(descrip…"
      ]
     },
     "metadata": {},
     "output_type": "display_data"
    }
   ],
   "source": [
    "np.random.seed(237)\n",
    "subsample = redrawn_labeled_samples.loc[~(redrawn_labeled_samples['score'] >= 0), :]\n",
    "cell_label = widgets.Label(value='')\n",
    "particle_label = widgets.Label(value='')\n",
    "labels = widgets.HBox([cell_label, particle_label])\n",
    "\n",
    "centered_layout = widgets.Layout(align_items = 'center')\n",
    "\n",
    "loading_widget = widgets.Label(value='Loading...')\n",
    "\n",
    "puff_butt = widgets.Button(description='Puff!',\n",
    "                           disabled=False,\n",
    "                           button_style='',\n",
    "                           tooltips='Puff',\n",
    "                           icons='check')\n",
    "np_butt = widgets.Button(description='Nonpuff!',\n",
    "                           disabled=False,\n",
    "                           button_style='',\n",
    "                           tooltips='Nonpuff',\n",
    "                           icons='times')\n",
    "score_butt = widgets.HBox([np_butt, puff_butt])\n",
    "\n",
    "header = widgets.VBox([labels, score_butt], layout=centered_layout)\n",
    "summary_display = widgets.HBox([loading_widget])\n",
    "full_display = widgets.VBox([header, summary_display], layout=centered_layout)\n",
    "display(full_display)\n",
    "\n",
    "def load_next_cell():\n",
    "    global events\n",
    "    global cells\n",
    "    \n",
    "    cell = next(cells, None)\n",
    "    if cell is None:\n",
    "        loading_widget.value = \"You're done! Time to go home!\"\n",
    "        summary_display.children = [loading_widget]\n",
    "    else:\n",
    "        loading_widget.value = \"Getting new cell...\"\n",
    "        summary_display.children = [loading_widget]\n",
    "        cell_label.value = cell\n",
    "        intensities = pd.read_csv(labeled_dir + os.sep + cell + '_intensities.csv')\n",
    "        events = [intensities.loc[intensities['particle'] == particle, :]\n",
    "                  for particle in subsample.loc[subsample['cell'] == cell_label.value, 'particle'].unique()]\n",
    "        np.random.shuffle(events)\n",
    "        events = iter(events)\n",
    "\n",
    "def display_and_load():\n",
    "    global events\n",
    "    \n",
    "    event = next(events, None)\n",
    "    if event is None:\n",
    "        load_next_cell()\n",
    "        event = next(events)\n",
    "    \n",
    "    loading_widget.value = (\"Loading event with length %d...\" % len(event['frame'].unique()))\n",
    "    summary_display.children = [loading_widget]\n",
    "    particle = event['particle'].values[0]\n",
    "    particle_label.value = str(particle)\n",
    "    summary_widgets = lib.display.plot_summary(event)\n",
    "    summary_display.children = [widgets.VBox([widgets.HBox(summary_widgets[:2]), \n",
    "                                             summary_widgets[2]], layout=centered_layout)]\n",
    "\n",
    "def call_puff(b):\n",
    "    redrawn_labeled_samples.loc[(redrawn_labeled_samples['particle'] == int(particle_label.value)) &\n",
    "                       (redrawn_labeled_samples['cell'] == cell_label.value), 'score'] = 1\n",
    "    display_and_load()\n",
    "\n",
    "def call_np(b):\n",
    "    redrawn_labeled_samples.loc[(redrawn_labeled_samples['particle'] == int(particle_label.value)) &\n",
    "                       (redrawn_labeled_samples['cell'] == cell_label.value), 'score'] = 0\n",
    "    display_and_load()\n",
    "\n",
    "puff_butt.on_click(call_puff)\n",
    "np_butt.on_click(call_np)\n",
    "\n",
    "cells = [cell for cell in subsample['cell'].unique()]\n",
    "np.random.shuffle(cells)\n",
    "cells = iter(cells)\n",
    "events = iter(())\n",
    "\n",
    "display_and_load()"
   ]
  },
  {
   "cell_type": "code",
   "execution_count": 151,
   "metadata": {},
   "outputs": [],
   "source": [
    "redrawn_labeled_samples.to_csv('redrawn_labeled_samples.csv')"
   ]
  },
  {
   "cell_type": "code",
   "execution_count": 153,
   "metadata": {},
   "outputs": [],
   "source": [
    "redrawn_labeled_samples.drop_duplicates(subset=['cell','particle']).to_csv('redrawn_labeled_samples_nodupes.csv')"
   ]
  },
  {
   "cell_type": "code",
   "execution_count": 154,
   "metadata": {},
   "outputs": [],
   "source": [
    "redrawn_labeled_samples = redrawn_labeled_samples.drop_duplicates(subset=['cell','particle'])"
   ]
  },
  {
   "cell_type": "code",
   "execution_count": 152,
   "metadata": {},
   "outputs": [
    {
     "data": {
      "text/plain": [
       "2035"
      ]
     },
     "execution_count": 152,
     "metadata": {},
     "output_type": "execute_result"
    }
   ],
   "source": [
    "np.sum(redrawn_labeled_samples['score'] >= 0)"
   ]
  },
  {
   "cell_type": "code",
   "execution_count": 144,
   "metadata": {},
   "outputs": [
    {
     "data": {
      "text/plain": [
       "1780"
      ]
     },
     "execution_count": 144,
     "metadata": {},
     "output_type": "execute_result"
    }
   ],
   "source": [
    "len(redrawn_labeled_samples.drop_duplicates(subset=['cell','particle']))"
   ]
  },
  {
   "cell_type": "code",
   "execution_count": 155,
   "metadata": {},
   "outputs": [
    {
     "data": {
      "image/png": "[encoded data removed]",
      "text/plain": [
       "<Figure size 432x288 with 1 Axes>"
      ]
     },
     "metadata": {
      "needs_background": "light"
     },
     "output_type": "display_data"
    }
   ],
   "source": [
    "plt.figure()\n",
    "xs = [res for res in map(np.mean, bins)]\n",
    "plt.plot(xs, xs, linestyle='--', color='k')\n",
    "\n",
    "ys = []\n",
    "for idx, bin_ in enumerate(bins):\n",
    "    binned_sample = redrawn_labeled_samples[(bin_[0] <= redrawn_labeled_samples['cal_proba'].values) &\n",
    "                                   (redrawn_labeled_samples['cal_proba'].values < bin_[1])]\n",
    "    ys.append(np.sum(binned_sample['score'] == 1)/np.sum(binned_sample['score'] >= 0))\n",
    "plt.plot(xs, ys, label='All', color='k')\n",
    "sns.rugplot(redrawn_labeled_samples['cal_proba'].values)\n",
    "\n",
    "for cargo in redrawn_labeled_samples['cargo'].unique():\n",
    "    ys = []\n",
    "    for idx, bin_ in enumerate(bins):\n",
    "        binned_sample = redrawn_labeled_samples[(bin_[0] <= redrawn_labeled_samples['cal_proba'].values) &\n",
    "                                       (redrawn_labeled_samples['cal_proba'].values < bin_[1]) &\n",
    "                                       (redrawn_labeled_samples['cargo'] == cargo)]\n",
    "        ys.append(np.sum(binned_sample['score'] == 1)/np.sum(binned_sample['score'] >= 0))\n",
    "    plt.plot(xs, ys, label=cargo)\n",
    "    \n",
    "plt.legend()\n",
    "plt.xlabel('Bin Center')\n",
    "plt.ylabel('Fraction of Events Scored as Puff')\n",
    "plt.title('Manual Calibration of Round Robin Classifier on Recalibrated Labeled Data')\n",
    "plt.show()"
   ]
  },
  {
   "cell_type": "code",
   "execution_count": 160,
   "metadata": {},
   "outputs": [
    {
     "data": {
      "text/plain": [
       "Index(['cell', 'particle', 'cal_proba', 'cargo', 'score'], dtype='object')"
      ]
     },
     "execution_count": 160,
     "metadata": {},
     "output_type": "execute_result"
    }
   ],
   "source": [
    "redrawn_labeled_samples.columns"
   ]
  },
  {
   "cell_type": "code",
   "execution_count": 180,
   "metadata": {},
   "outputs": [],
   "source": [
    "# code to generate labeled csv\n",
    "fields = ['cell', 'particle']\n",
    "list_of_events = pd.concat([redrawn_labeled_samples[fields],\n",
    "                            binned_labeled_samples[fields]])\n",
    "list_of_events = list_of_events.drop_duplicates()\n",
    "\n",
    "intens_list = []\n",
    "for cell in list_of_events['cell'].unique():\n",
    "    intensities = pd.read_csv(labeled_dir + os.sep + cell + '_intensities.csv')\n",
    "    particles = list_of_events.loc[list_of_events['cell'] == cell, 'particle'].values\n",
    "    intens_subset = intensities.loc[np.isin(intensities['particle'],particles), :]\n",
    "    intens_list.append(intens_subset)"
   ]
  },
  {
   "cell_type": "code",
   "execution_count": 199,
   "metadata": {},
   "outputs": [],
   "source": [
    "cell_id = np.hstack([np.repeat(cell, len(intens_list[i])) for i, cell in enumerate(list_of_events['cell'].unique())])"
   ]
  },
  {
   "cell_type": "code",
   "execution_count": 200,
   "metadata": {},
   "outputs": [],
   "source": [
    "intens_list = pd.concat(intens_list)\n",
    "intens_list['cell'] = cell_id"
   ]
  },
  {
   "cell_type": "code",
   "execution_count": 201,
   "metadata": {},
   "outputs": [],
   "source": [
    "intens_list.to_csv('intens_for_calibration.csv')"
   ]
  },
  {
   "cell_type": "code",
   "execution_count": 166,
   "metadata": {},
   "outputs": [],
   "source": [
    "cell = list_of_events['cell'].unique()[0]\n",
    "intensities = pd.read_csv(labeled_dir + os.sep + cell + '_intensities.csv')\n",
    "particles = list_of_events.loc[list_of_events['cell'] == cell, 'particle'].values"
   ]
  },
  {
   "cell_type": "code",
   "execution_count": 177,
   "metadata": {},
   "outputs": [],
   "source": [
    "list_of_events['adj_proba'] = [labeled_samples.loc[(labeled_samples['cell'] == cell) &\n",
    "                                                  (labeled_samples['particle'] == particle),'adj_proba'].values[0]\n",
    "                              for (cell, particle) in list_of_events.itertuples(index=False, name=None)]"
   ]
  },
  {
   "cell_type": "code",
   "execution_count": 179,
   "metadata": {},
   "outputs": [],
   "source": [
    "list_of_events.to_csv('events_for_calibration.csv')"
   ]
  },
  {
   "cell_type": "code",
   "execution_count": 169,
   "metadata": {},
   "outputs": [],
   "source": [
    "intens_subset = intensities.loc[np.isin(intensities['particle'],particles), :]"
   ]
  },
  {
   "cell_type": "code",
   "execution_count": 171,
   "metadata": {},
   "outputs": [
    {
     "data": {
      "text/plain": [
       "0.11981629528831433"
      ]
     },
     "execution_count": 171,
     "metadata": {},
     "output_type": "execute_result"
    }
   ],
   "source": [
    "len(intens_subset)/len(intensities)"
   ]
  }
 ],
 "metadata": {
  "kernelspec": {
   "display_name": "Python [conda env:py37] *",
   "language": "python",
   "name": "conda-env-py37-py"
  },
  "language_info": {
   "codemirror_mode": {
    "name": "ipython",
    "version": 3
   },
   "file_extension": ".py",
   "mimetype": "text/x-python",
   "name": "python",
   "nbconvert_exporter": "python",
   "pygments_lexer": "ipython3",
   "version": "3.7.3"
  }
 },
 "nbformat": 4,
 "nbformat_minor": 4
}
