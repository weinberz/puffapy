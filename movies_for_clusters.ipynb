{
 "cells": [
  {
   "cell_type": "code",
   "execution_count": 1,
   "metadata": {},
   "outputs": [],
   "source": [
    "import warnings\n",
    "warnings.simplefilter(action='ignore', category=FutureWarning)\n",
    "\n",
    "import puff_lib as pl\n",
    "import numpy as np\n",
    "import pandas as pd\n",
    "\n",
    "from tqdm.auto import tqdm\n",
    "\n",
    "import time\n",
    "\n",
    "import os"
   ]
  },
  {
   "cell_type": "code",
   "execution_count": 2,
   "metadata": {},
   "outputs": [],
   "source": [
    "basedir = '/Volumes/Coatamer/Users/weinberz/UM Drive/OPP'\n",
    "files = os.listdir(basedir)\n",
    "tifs = [tif for tif in files if 'tif' in tif]\n",
    "xmls = [xml for xml in files if 'xml' in xml]\n",
    "matched_pairs = []\n",
    "for tif in tifs:\n",
    "    movie_name = tif.split('.')[0]\n",
    "    matches = [xml for xml in xmls if movie_name in xml]\n",
    "    if matches:\n",
    "        matched_pairs.append((tif, matches[0]))"
   ]
  },
  {
   "cell_type": "code",
   "execution_count": 6,
   "metadata": {},
   "outputs": [
    {
     "data": {
      "text/plain": [
       "[('42GSRFR0.tif', '42GSRFR0-ZYW-1.xml'),\n",
       " ('53BFW81Q.tif', '53BFW81Q-ZYW-1.xml'),\n",
       " ('56CCWWJI.tif', '56CCWWJI-ZYW-1.xml'),\n",
       " ('79NWKD4H.tif', '79NWKD4H-ZYW-1.xml')]"
      ]
     },
     "execution_count": 6,
     "metadata": {},
     "output_type": "execute_result"
    }
   ],
   "source": [
    "new_movies = [matched_pairs[i] for i in [5,6,7,11]]\n",
    "new_movies"
   ]
  },
  {
   "cell_type": "code",
   "execution_count": 7,
   "metadata": {},
   "outputs": [
    {
     "name": "stdout",
     "output_type": "stream",
     "text": [
      "Frame 2999: 341 trajectories present.\n",
      "Completed one in 5411.46262\n",
      "\n"
     ]
    }
   ],
   "source": [
    "movie_columns = ['basedir','movie_file','label_file','puff_events','puff_intensities']\n",
    "movies = pd.DataFrame(columns=['basedir','movie_file','label_file','puff_events','puff_intensities'])\n",
    "print('\\n')\n",
    "for pair in tqdm(new_movies):\n",
    "    st_time = time.time()\n",
    "    movie = pair[0]\n",
    "    label = pair[1]\n",
    "    puff_events, puff_intensities, _, _ = pl.process_movie(basedir + os.sep + movie,\n",
    "                                                           basedir + os.sep + label)\n",
    "    movies = movies.append({'basedir': basedir, \n",
    "                            'movie_file': movie,\n",
    "                            'label_file': label,\n",
    "                            'puff_events': puff_events, \n",
    "                            'puff_intensities': puff_intensities}, ignore_index=True)\n",
    "    print('Completed one in %.5f' % (time.time()-st_time))"
   ]
  }
 ],
 "metadata": {
  "kernelspec": {
   "display_name": "Python [conda env:py37] *",
   "language": "python",
   "name": "conda-env-py37-py"
  },
  "language_info": {
   "codemirror_mode": {
    "name": "ipython",
    "version": 3
   },
   "file_extension": ".py",
   "mimetype": "text/x-python",
   "name": "python",
   "nbconvert_exporter": "python",
   "pygments_lexer": "ipython3",
   "version": "3.7.3"
  }
 },
 "nbformat": 4,
 "nbformat_minor": 4
}
