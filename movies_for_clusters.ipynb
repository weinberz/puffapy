{
 "cells": [
  {
   "cell_type": "code",
   "execution_count": 8,
   "metadata": {},
   "outputs": [],
   "source": [
    "import warnings\n",
    "warnings.simplefilter(action='ignore', category=FutureWarning)\n",
    "\n",
    "import puff_lib as pl\n",
    "import numpy as np\n",
    "import pandas as pd\n",
    "\n",
    "from tqdm.auto import tqdm\n",
    "\n",
    "import time\n",
    "\n",
    "import os\n",
    "\n",
    "from matplotlib import pyplot as plt\n",
    "%matplotlib inline"
   ]
  },
  {
   "cell_type": "code",
   "execution_count": 2,
   "metadata": {},
   "outputs": [],
   "source": [
    "basedir = '/Volumes/Coatamer/Users/weinberz/UM Drive/OPP'\n",
    "files = os.listdir(basedir)\n",
    "tifs = [tif for tif in files if 'tif' in tif]\n",
    "xmls = [xml for xml in files if 'xml' in xml]\n",
    "matched_pairs = []\n",
    "for tif in tifs:\n",
    "    movie_name = tif.split('.')[0]\n",
    "    matches = [xml for xml in xmls if movie_name in xml]\n",
    "    if matches:\n",
    "        matched_pairs.append((tif, matches[0]))"
   ]
  },
  {
   "cell_type": "code",
   "execution_count": 7,
   "metadata": {},
   "outputs": [
    {
     "data": {
      "text/plain": [
       "[('0IYVHRNA.tif', '0IYVHRNA-ZYW-1.xml'),\n",
       " ('19CC75ZU.tif', '19CC75ZU-ZYW-1.xml'),\n",
       " ('2TZWB6CN.tif', '2TZWB6CN-ZYW-1.xml'),\n",
       " ('3W70AV4V.tif', '3W70AV4V-ZYW-1.xml'),\n",
       " ('3WE2GUYC.tif', '3WE2GUYC-ZYW-1.xml'),\n",
       " ('5FWR8G3N.tif', '5FWR8G3N-ZYW-1.xml'),\n",
       " ('5RTVNBXU.tif', '5RTVNBXU-ZYW-1.xml')]"
      ]
     },
     "execution_count": 7,
     "metadata": {},
     "output_type": "execute_result"
    }
   ],
   "source": [
    "matched_pairs[:7]"
   ]
  },
  {
   "cell_type": "code",
   "execution_count": 4,
   "metadata": {},
   "outputs": [
    {
     "name": "stdout",
     "output_type": "stream",
     "text": [
      "Frame 2999: 374 trajectories present.\n",
      "\n"
     ]
    }
   ],
   "source": [
    "movie_columns = ['basedir','movie_file','label_file','puff_events','puff_intensities']\n",
    "movies = pd.DataFrame(columns=['basedir','movie_file','label_file','puff_events','puff_intensities'])\n",
    "print('\\n')\n",
    "for pair in tqdm(matched_pairs[:7]):\n",
    "    movie = pair[0]\n",
    "    label = pair[1]\n",
    "    puff_events, puff_intensities, _, _ = pl.process_movie(basedir + os.sep + movie,\n",
    "                                                           basedir + os.sep + label)\n",
    "    movies = movies.append({'basedir': basedir, \n",
    "                            'movie_file': movie,\n",
    "                            'label_file': label,\n",
    "                            'puff_events': puff_events, \n",
    "                            'puff_intensities': puff_intensities}, ignore_index=True)"
   ]
  },
  {
   "cell_type": "code",
   "execution_count": 9,
   "metadata": {},
   "outputs": [
    {
     "name": "stdout",
     "output_type": "stream",
     "text": [
      "Frame 2999: 382 trajectories present.\n",
      "Completed one in 5664.27554\n",
      "\n"
     ]
    }
   ],
   "source": [
    "for pair in tqdm(matched_pairs[:7]):\n",
    "    st_time = time.time()\n",
    "    movie = pair[0]\n",
    "    label = pair[1]\n",
    "    puff_events, puff_intensities, _, _ = pl.process_movie(basedir + os.sep + movie,\n",
    "                                                           basedir + os.sep + label)\n",
    "    movies = movies.append({'basedir': basedir, \n",
    "                            'movie_file': movie,\n",
    "                            'label_file': label,\n",
    "                            'puff_events': puff_events, \n",
    "                            'puff_intensities': puff_intensities}, ignore_index=True)\n",
    "    print('Completed one in %.5f' % (time.time()-st_time))"
   ]
  }
 ],
 "metadata": {
  "kernelspec": {
   "display_name": "Python [conda env:py37] *",
   "language": "python",
   "name": "conda-env-py37-py"
  },
  "language_info": {
   "codemirror_mode": {
    "name": "ipython",
    "version": 3
   },
   "file_extension": ".py",
   "mimetype": "text/x-python",
   "name": "python",
   "nbconvert_exporter": "python",
   "pygments_lexer": "ipython3",
   "version": "3.7.3"
  }
 },
 "nbformat": 4,
 "nbformat_minor": 4
}
