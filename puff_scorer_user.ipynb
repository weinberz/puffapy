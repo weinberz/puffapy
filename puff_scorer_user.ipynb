{
 "cells": [
  {
   "cell_type": "code",
   "execution_count": null,
   "metadata": {},
   "outputs": [],
   "source": [
    "import lib.display\n",
    "import numpy as np\n",
    "import pandas as pd\n",
    "\n",
    "from matplotlib import pyplot as plt\n",
    "from matplotlib import animation\n",
    "from skimage import transform\n",
    "from IPython.display import HTML, clear_output\n",
    "import ipywidgets as widgets\n",
    "\n",
    "from math import floor\n",
    "import string"
   ]
  },
  {
   "cell_type": "markdown",
   "metadata": {},
   "source": [
    "First we load in all the events that have been randomly selected for calibration, as well as the 9x9 windows so that you can actually visualize those events. We also set the 'score' column to be empty. Rerunning this cell will erase your scores, so only run it once for each scoring session."
   ]
  },
  {
   "cell_type": "code",
   "execution_count": null,
   "metadata": {},
   "outputs": [],
   "source": [
    "intensities = pd.read_csv('intens_for_calibration.csv')\n",
    "samples = pd.read_csv('events_for_calibration.csv')\n",
    "samples['score'] = None\n",
    "\n",
    "session_id = ''.join(np.random.choice(list(string.ascii_letters), size=6))"
   ]
  },
  {
   "cell_type": "code",
   "execution_count": null,
   "metadata": {},
   "outputs": [],
   "source": [
    "# replace the session id below with the id you would like to load\n",
    "session_id = 'xxxxxx'\n",
    "samples = pd.read_csv('scored_sample_' + session_id + '.csv', index_col=None)"
   ]
  },
  {
   "cell_type": "markdown",
   "metadata": {},
   "source": [
    "Then we randomize the order that the events are displayed, and allow you to visualize them!"
   ]
  },
  {
   "cell_type": "code",
   "execution_count": null,
   "metadata": {
    "jupyter": {
     "source_hidden": true
    }
   },
   "outputs": [],
   "source": [
    "subsample = samples.loc[~(samples['score'] >= 0), ['cell', 'particle']]\n",
    "\n",
    "cell_label = widgets.Label(value='')\n",
    "particle_label = widgets.Label(value='')\n",
    "progress_string = '(%d/%d)' % (np.sum(samples['score'] >= 0), len(samples))\n",
    "progress_label = widgets.Label(value=progress_string)\n",
    "labels = widgets.HBox([cell_label, particle_label, progress_label])\n",
    "\n",
    "centered_layout = widgets.Layout(align_items = 'center')\n",
    "\n",
    "loading_widget = widgets.Label(value='Loading...')\n",
    "\n",
    "puff_butt = widgets.Button(description='Puff!',\n",
    "                           disabled=False,\n",
    "                           button_style='',\n",
    "                           tooltips='Puff',\n",
    "                           icons='check')\n",
    "np_butt = widgets.Button(description='Nonpuff!',\n",
    "                           disabled=False,\n",
    "                           button_style='',\n",
    "                           tooltips='Nonpuff',\n",
    "                           icons='times')\n",
    "score_butt = widgets.HBox([np_butt, puff_butt])\n",
    "\n",
    "header = widgets.VBox([labels, score_butt], layout=centered_layout)\n",
    "summary_display = widgets.HBox([loading_widget])\n",
    "full_display = widgets.VBox([header, summary_display], layout=centered_layout)\n",
    "display(full_display)\n",
    "\n",
    "def display_and_load():\n",
    "    global events\n",
    "    global counter\n",
    "    \n",
    "    loading_widget.value = \"...\"\n",
    "    summary_display.children = [loading_widget]\n",
    "    \n",
    "    counter += 1\n",
    "    if counter == 11:\n",
    "        loading_widget.value = \"Saving...\"\n",
    "        samples.to_csv('scored_sample_' + session_id + '.csv')\n",
    "        counter = 0\n",
    "    \n",
    "    event = next(events, None)\n",
    "    if event is None:\n",
    "        loading_widget.value = \"Saving...\"\n",
    "        samples.to_csv('scored_sample_' + session_id + '.csv')\n",
    "        loading_widget.value = \"You're done! Sit back, relax, and enjoy the good times!!\"\n",
    "        return\n",
    "    \n",
    "    event_intens = intensities.loc[(intensities['cell'] == event[0]) &\n",
    "                                   (intensities['particle'] == event[1]), :]\n",
    "    \n",
    "    loading_widget.value = (\"Loading event with length %d...\" % len(event_intens['frame'].unique()))\n",
    "    particle = event[1]\n",
    "    particle_label.value = str(particle)\n",
    "    cell = event[0]\n",
    "    cell_label.value = cell\n",
    "    progress_string = '(%d/%d)' % (np.sum(samples['score'] >= 0), len(samples))\n",
    "    progress_label.value = progress_string\n",
    "    \n",
    "    summary_widgets = lib.display.plot_summary(event_intens)\n",
    "    summary_display.children = [widgets.VBox([widgets.HBox(summary_widgets[:2]), \n",
    "                                             summary_widgets[2]], layout=centered_layout)]\n",
    "\n",
    "def call_puff(b):\n",
    "    samples.loc[(samples['particle'] == int(particle_label.value)) &\n",
    "                (samples['cell'] == cell_label.value), 'score'] = 1\n",
    "    display_and_load()\n",
    "\n",
    "def call_np(b):\n",
    "    samples.loc[(samples['particle'] == int(particle_label.value)) &\n",
    "                (samples['cell'] == cell_label.value), 'score'] = 0\n",
    "    display_and_load()\n",
    "\n",
    "puff_butt.on_click(call_puff)\n",
    "np_butt.on_click(call_np)\n",
    "\n",
    "events = [(cell, particle) for cell, particle in subsample.itertuples(index=False, name=None)]\n",
    "np.random.shuffle(events)\n",
    "events = iter((events))\n",
    "\n",
    "counter = 0\n",
    "display_and_load()"
   ]
  }
 ],
 "metadata": {
  "kernelspec": {
   "display_name": "Python [conda env:py37] *",
   "language": "python",
   "name": "conda-env-py37-py"
  },
  "language_info": {
   "codemirror_mode": {
    "name": "ipython",
    "version": 3
   },
   "file_extension": ".py",
   "mimetype": "text/x-python",
   "name": "python",
   "nbconvert_exporter": "python",
   "pygments_lexer": "ipython3",
   "version": "3.7.3"
  }
 },
 "nbformat": 4,
 "nbformat_minor": 4
}
