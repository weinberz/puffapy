{
 "cells": [
  {
   "cell_type": "code",
   "execution_count": null,
   "metadata": {},
   "outputs": [],
   "source": [
    "from lib import detection\n",
    "\n",
    "import numpy as np\n",
    "import pandas as pd"
   ]
  },
  {
   "cell_type": "code",
   "execution_count": null,
   "metadata": {},
   "outputs": [],
   "source": [
    "# this is the input directory. \n",
    "# change this to point to a directory where you have your puff movies stored\n",
    "# they should be single channel tiff stacks\n",
    "indir = 'path/'\n",
    "\n",
    "# this is the output directory\n",
    "# information about your movies will be stored here. this should be an empty directory\n",
    "outdir = 'different_path/'\n",
    "\n",
    "# this tells us which kind of files to look for. No need to change this if these are saved as tifs\n",
    "file_ext = 'tif'"
   ]
  },
  {
   "cell_type": "code",
   "execution_count": null,
   "metadata": {},
   "outputs": [],
   "source": [
    "files = os.listdir(basedir)\n",
    "tifs = [tif for tif in files if file_ext in tif]\n",
    "# uncomment this filter and modify it if you need to exclude certain movies\n",
    "# tifs = [tif for tif in tifs if 'internalization' not in tif]"
   ]
  },
  {
   "cell_type": "code",
   "execution_count": null,
   "metadata": {},
   "outputs": [],
   "source": [
    "# run this to check which files will be analyzed. You might need to adjust the above filters:\n",
    "tifs"
   ]
  },
  {
   "cell_type": "code",
   "execution_count": null,
   "metadata": {},
   "outputs": [],
   "source": [
    "# finally, run all your movies!\n",
    "for tif in tifs:\n",
    "    movie_dat = detection.process_movie(basedir + os.sep + tif, markers=None, outdir=outdir)"
   ]
  }
 ],
 "metadata": {
  "kernelspec": {
   "display_name": "Python [conda env:py37] *",
   "language": "python",
   "name": "conda-env-py37-py"
  },
  "language_info": {
   "codemirror_mode": {
    "name": "ipython",
    "version": 3
   },
   "file_extension": ".py",
   "mimetype": "text/x-python",
   "name": "python",
   "nbconvert_exporter": "python",
   "pygments_lexer": "ipython3",
   "version": "3.7.3"
  }
 },
 "nbformat": 4,
 "nbformat_minor": 4
}
