{
 "cells": [
  {
   "cell_type": "code",
   "execution_count": 102,
   "metadata": {
    "jupyter": {
     "source_hidden": true
    }
   },
   "outputs": [],
   "source": [
    "import numpy as np\n",
    "import pandas as pd\n",
    "from matplotlib import pyplot as plt\n",
    "from matplotlib import animation\n",
    "from skimage import transform\n",
    "from tqdm.auto import tqdm\n",
    "from IPython.display import HTML\n",
    "import ipywidgets as widgets"
   ]
  },
  {
   "cell_type": "code",
   "execution_count": 119,
   "metadata": {
    "jupyter": {
     "source_hidden": true
    }
   },
   "outputs": [],
   "source": [
    "# This normalizes intensities for across a puff montage and returns\n",
    "# a numpy array with dims (x,y,num_frames) for display as if a tif\n",
    "def puff_to_frames(puff):\n",
    "    # get properties for display\n",
    "    num_frames = len(np.unique(puff['frame']))\n",
    "    dim_x = len(np.unique(puff.loc[puff['frame'] == puff.loc[0,'frame'],'x']))\n",
    "    dim_y = len(np.unique(puff.loc[puff['frame'] == puff.loc[0,'frame'],'y']))\n",
    "    scale_factor = 2\n",
    "    \n",
    "    # iterate through frames and convert to dim_x x dim_y matrix\n",
    "    puff_matrix = np.zeros((dim_x*scale_factor,\n",
    "                            dim_y*scale_factor,\n",
    "                            num_frames),\n",
    "                           dtype=np.uint16)\n",
    "    for frame in np.unique(puff['frame']):\n",
    "        relframe = frame - np.min(puff['frame'])\n",
    "        cur_frame = puff[puff['frame']==frame].pivot_table(values=['intensity'],columns=['x'],index=['y']).values\n",
    "        cur_frame = transform.rescale(cur_frame, 2,\n",
    "                                      multichannel=False,\n",
    "                                      preserve_range=True)\n",
    "        puff_matrix[:,:,int(relframe)] = cur_frame\n",
    "        \n",
    "    return puff_matrix\n",
    "\n",
    "def generate_widget(puff_frames, cell_name, puff_num):\n",
    "    obj_layout = widgets.Layout(width='200px')\n",
    "    out = widgets.Output()\n",
    "    cluster = widgets.Dropdown(options = np.arange(1,11).tolist(),\n",
    "                               value = 1,\n",
    "                               layout = widgets.Layout(width='150px'),\n",
    "                               description = 'Cluster:')\n",
    "    label = widgets.Label(value='Cell ' + cell_name + ': Puff ' + puff_num,\n",
    "                         layout=obj_layout)\n",
    "    play = widgets.Play(interval=200, value=0,\n",
    "                        min=0, max=puff_frames.shape[2]-1, \n",
    "                        step=1, description=\"Press play\",\n",
    "                        disabled=False)\n",
    "    slider = widgets.IntSlider(min=0, max=puff_frames.shape[2]-1,\n",
    "                               layout=obj_layout)\n",
    "    widgets.jslink((play, 'value'), (slider, 'value'))\n",
    "    ui = widgets.VBox([label, play, slider, out, cluster], \n",
    "                      layout=widgets.Layout(width='210',align_items='stretch'))\n",
    "\n",
    "    vmin = np.min(puff_frames.flatten())\n",
    "    vmax = np.max(puff_frames.flatten())\n",
    "    \n",
    "    def paint_puff(frame):\n",
    "        with out:\n",
    "            out.clear_output()\n",
    "            fig, ax = plt.subplots(figsize=(3,3))\n",
    "            ax.axis('off')\n",
    "            plt.imshow(puff_frames[:,:,frame],\n",
    "                  vmin=vmin, vmax=vmax, cmap='gray')\n",
    "\n",
    "    int_out = widgets.interactive_output(paint_puff,{'frame': slider})\n",
    "    return widgets.VBox([ui, int_out])"
   ]
  },
  {
   "cell_type": "code",
   "execution_count": 141,
   "metadata": {
    "jupyter": {
     "source_hidden": true
    }
   },
   "outputs": [],
   "source": [
    "def score_some_clusters(scorer, cell_name):\n",
    "    puffs = pd.read_csv(cell_name + '.tif_puff_intensities.csv',index_col=0)\n",
    "\n",
    "    np.random.seed(237)\n",
    "    puff_ids = np.random.choice(np.unique(puffs['particle']),20,replace=False)\n",
    "    widget_list = []\n",
    "    for puff_id in tqdm(puff_ids):\n",
    "        frames = puff_to_frames(puffs.loc[puffs['particle']==puff_id, :])\n",
    "        widget = generate_widget(frames, cell_name, str(puff_id))\n",
    "        widget_list.append(widget)\n",
    "        \n",
    "    ids_with_clusters = pd.DataFrame(columns=['particle','cluster'])\n",
    "    ids_with_clusters['particle'] = puff_ids\n",
    "\n",
    "    puff_boxes = widgets.HBox(widget_list,layout=widgets.Layout(flex_flow = 'row wrap'))\n",
    "    butt = widgets.Button(description = 'Save Clusters',\n",
    "                          disabled=False,\n",
    "                          button_style='')\n",
    "    display(widgets.VBox([puff_boxes,butt]))\n",
    "\n",
    "    def save_clusters(b):\n",
    "        for idx, particle in enumerate(puff_ids):\n",
    "            cluster_id = widget_list[idx].children[0].children[4].value\n",
    "            ids_with_clusters.loc[idx,'cluster'] = cluster_id\n",
    "            ids_with_clusters.to_csv(cell_name + '_clusters_' + scorer + '.csv')\n",
    "\n",
    "    butt.on_click(save_clusters)"
   ]
  },
  {
   "cell_type": "markdown",
   "metadata": {},
   "source": [
    "### Who are you??"
   ]
  },
  {
   "cell_type": "code",
   "execution_count": 155,
   "metadata": {},
   "outputs": [],
   "source": [
    "scorer = 'Caroline'"
   ]
  },
  {
   "cell_type": "markdown",
   "metadata": {},
   "source": [
    "# 19CC75ZU Movie"
   ]
  },
  {
   "cell_type": "code",
   "execution_count": 156,
   "metadata": {},
   "outputs": [
    {
     "data": {
      "application/vnd.jupyter.widget-view+json": {
       "model_id": "b710c2a60da649aaacacc5dc74ba45ae",
       "version_major": 2,
       "version_minor": 0
      },
      "text/plain": [
       "HBox(children=(IntProgress(value=0, max=20), HTML(value='')))"
      ]
     },
     "metadata": {},
     "output_type": "display_data"
    },
    {
     "name": "stdout",
     "output_type": "stream",
     "text": [
      "\n"
     ]
    },
    {
     "data": {
      "application/vnd.jupyter.widget-view+json": {
       "model_id": "4d971f6383b14c6caac2e32a7b57671e",
       "version_major": 2,
       "version_minor": 0
      },
      "text/plain": [
       "VBox(children=(HBox(children=(VBox(children=(VBox(children=(Label(value='Cell 19CC75ZU: Puff 35209.0', layout=…"
      ]
     },
     "metadata": {},
     "output_type": "display_data"
    }
   ],
   "source": [
    "cell_name = '19CC75ZU'\n",
    "score_some_clusters(scorer, cell_name)"
   ]
  },
  {
   "cell_type": "markdown",
   "metadata": {},
   "source": [
    "# 0IYVHRNA Movie"
   ]
  },
  {
   "cell_type": "code",
   "execution_count": 157,
   "metadata": {},
   "outputs": [
    {
     "data": {
      "application/vnd.jupyter.widget-view+json": {
       "model_id": "d55c6602452f485db73a40ebccb4df6d",
       "version_major": 2,
       "version_minor": 0
      },
      "text/plain": [
       "HBox(children=(IntProgress(value=0, max=20), HTML(value='')))"
      ]
     },
     "metadata": {},
     "output_type": "display_data"
    },
    {
     "name": "stdout",
     "output_type": "stream",
     "text": [
      "\n"
     ]
    },
    {
     "data": {
      "application/vnd.jupyter.widget-view+json": {
       "model_id": "899a6e325fdd4f3b9e0fd7136611292f",
       "version_major": 2,
       "version_minor": 0
      },
      "text/plain": [
       "VBox(children=(HBox(children=(VBox(children=(VBox(children=(Label(value='Cell 0IYVHRNA: Puff 449090.0', layout…"
      ]
     },
     "metadata": {},
     "output_type": "display_data"
    }
   ],
   "source": [
    "cell_name = '0IYVHRNA'\n",
    "score_some_clusters(scorer, cell_name)"
   ]
  },
  {
   "cell_type": "markdown",
   "metadata": {},
   "source": [
    "# 2TZWB6CN Movie"
   ]
  },
  {
   "cell_type": "code",
   "execution_count": 158,
   "metadata": {},
   "outputs": [
    {
     "data": {
      "application/vnd.jupyter.widget-view+json": {
       "model_id": "e971e6b7563d4da5a046a26cf3b024fd",
       "version_major": 2,
       "version_minor": 0
      },
      "text/plain": [
       "HBox(children=(IntProgress(value=0, max=20), HTML(value='')))"
      ]
     },
     "metadata": {},
     "output_type": "display_data"
    },
    {
     "name": "stdout",
     "output_type": "stream",
     "text": [
      "\n"
     ]
    },
    {
     "data": {
      "application/vnd.jupyter.widget-view+json": {
       "model_id": "042555b23b7643428417489da517a875",
       "version_major": 2,
       "version_minor": 0
      },
      "text/plain": [
       "VBox(children=(HBox(children=(VBox(children=(VBox(children=(Label(value='Cell 2TZWB6CN: Puff 305782.0', layout…"
      ]
     },
     "metadata": {},
     "output_type": "display_data"
    }
   ],
   "source": [
    "cell_name = '2TZWB6CN'\n",
    "score_some_clusters(scorer, cell_name)"
   ]
  },
  {
   "cell_type": "markdown",
   "metadata": {},
   "source": [
    "# 3W70AV4V Movie"
   ]
  },
  {
   "cell_type": "code",
   "execution_count": 159,
   "metadata": {},
   "outputs": [
    {
     "data": {
      "application/vnd.jupyter.widget-view+json": {
       "model_id": "312f0e4163e54aa2ab894b52b91a94c8",
       "version_major": 2,
       "version_minor": 0
      },
      "text/plain": [
       "HBox(children=(IntProgress(value=0, max=20), HTML(value='')))"
      ]
     },
     "metadata": {},
     "output_type": "display_data"
    },
    {
     "name": "stdout",
     "output_type": "stream",
     "text": [
      "\n"
     ]
    },
    {
     "data": {
      "application/vnd.jupyter.widget-view+json": {
       "model_id": "8fed4ef83e6246b2aa7c4c0c56f52b51",
       "version_major": 2,
       "version_minor": 0
      },
      "text/plain": [
       "VBox(children=(HBox(children=(VBox(children=(VBox(children=(Label(value='Cell 3W70AV4V: Puff 221893.0', layout…"
      ]
     },
     "metadata": {},
     "output_type": "display_data"
    }
   ],
   "source": [
    "cell_name = '3W70AV4V'\n",
    "score_some_clusters(scorer, cell_name)"
   ]
  }
 ],
 "metadata": {
  "kernelspec": {
   "display_name": "Python [conda env:py37] *",
   "language": "python",
   "name": "conda-env-py37-py"
  },
  "language_info": {
   "codemirror_mode": {
    "name": "ipython",
    "version": 3
   },
   "file_extension": ".py",
   "mimetype": "text/x-python",
   "name": "python",
   "nbconvert_exporter": "python",
   "pygments_lexer": "ipython3",
   "version": "3.7.3"
  }
 },
 "nbformat": 4,
 "nbformat_minor": 4
}
