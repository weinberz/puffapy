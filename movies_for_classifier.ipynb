{
 "cells": [
  {
   "cell_type": "code",
   "execution_count": 1,
   "metadata": {},
   "outputs": [],
   "source": [
    "import warnings\n",
    "warnings.simplefilter(action='ignore', category=FutureWarning)\n",
    "\n",
    "from lib import detection\n",
    "from lib import analysis\n",
    "import numpy as np\n",
    "import pandas as pd\n",
    "\n",
    "from tqdm.auto import tqdm\n",
    "\n",
    "import time\n",
    "\n",
    "import os"
   ]
  },
  {
   "cell_type": "code",
   "execution_count": 2,
   "metadata": {},
   "outputs": [],
   "source": [
    "basedir = '/Volumes/Coatamer/Users/weinberz/UM Drive/OPP'\n",
    "files = os.listdir(basedir)\n",
    "tifs = [tif for tif in files if 'tif' in tif]\n",
    "xmls = [xml for xml in files if 'xml' in xml]\n",
    "matched_pairs = []\n",
    "for tif in tifs:\n",
    "    movie_name = tif.split('.')[0]\n",
    "    matches = [xml for xml in xmls if movie_name in xml]\n",
    "    if matches:\n",
    "        matched_pairs.append((tif, matches[0]))"
   ]
  },
  {
   "cell_type": "code",
   "execution_count": 3,
   "metadata": {},
   "outputs": [
    {
     "data": {
      "text/plain": [
       "[('0IYVHRNA.tif', '0IYVHRNA-ZYW-1.xml'),\n",
       " ('19CC75ZU.tif', '19CC75ZU-ZYW-1.xml'),\n",
       " ('2TZWB6CN.tif', '2TZWB6CN-ZYW-1.xml'),\n",
       " ('3W70AV4V.tif', '3W70AV4V-ZYW-1.xml'),\n",
       " ('3WE2GUYC.tif', '3WE2GUYC-ZYW-1.xml'),\n",
       " ('42GSRFR0.tif', '42GSRFR0-ZYW-1.xml'),\n",
       " ('53BFW81Q.tif', '53BFW81Q-ZYW-1.xml'),\n",
       " ('56CCWWJI.tif', '56CCWWJI-ZYW-1.xml'),\n",
       " ('5FWR8G3N.tif', '5FWR8G3N-ZYW-1.xml'),\n",
       " ('5RTVNBXU.tif', '5RTVNBXU-ZYW-1.xml'),\n",
       " ('6SG3YVW7.tif', '6SG3YVW7-ZYW-1.xml'),\n",
       " ('79NWKD4H.tif', '79NWKD4H-ZYW-1.xml'),\n",
       " ('7C4SV01F.tif', '7C4SV01F-ZYW-1.xml'),\n",
       " ('7XFW332I.tif', '7XFW332I-ZYW-1.xml'),\n",
       " ('7XGJBQQ3.tif', '7XGJBQQ3-ZYW-1.xml'),\n",
       " ('7YFIHF8P.tif', '7YFIHF8P-ZYW-1.xml'),\n",
       " ('8C92MS0M.tif', '8C92MS0M-ZYW-1.xml'),\n",
       " ('9VEA7WGA.tif', '9VEA7WGA-ZYW-1.xml')]"
      ]
     },
     "execution_count": 3,
     "metadata": {},
     "output_type": "execute_result"
    }
   ],
   "source": [
    "matched_pairs"
   ]
  },
  {
   "cell_type": "code",
   "execution_count": 4,
   "metadata": {},
   "outputs": [
    {
     "data": {
      "application/vnd.jupyter.widget-view+json": {
       "model_id": "73e85b95173d44e68c483961e371e93a",
       "version_major": 2,
       "version_minor": 0
      },
      "text/plain": [
       "HBox(children=(IntProgress(value=0, max=1), HTML(value='')))"
      ]
     },
     "metadata": {},
     "output_type": "display_data"
    },
    {
     "name": "stdout",
     "output_type": "stream",
     "text": [
      "Getting events for 9VEA7WGA.tif... "
     ]
    },
    {
     "name": "stderr",
     "output_type": "stream",
     "text": [
      "/Volumes/Coatamer/Users/weinberz/miniconda3/envs/py37/lib/python3.7/site-packages/rpy2/rinterface/__init__.py:146: RRuntimeWarning: Error in vglm.fitter(x = x, y = y, w = w, offset = offset, Xm2 = Xm2,  : \n",
      "  vglm() only handles full-rank models (currently)\n",
      "\n",
      "  warnings.warn(x, RRuntimeWarning)\n",
      "/Volumes/Coatamer/Users/weinberz/miniconda3/envs/py37/lib/python3.7/site-packages/rpy2/rinterface/__init__.py:146: RRuntimeWarning: In addition: \n",
      "  warnings.warn(x, RRuntimeWarning)\n",
      "/Volumes/Coatamer/Users/weinberz/miniconda3/envs/py37/lib/python3.7/site-packages/rpy2/rinterface/__init__.py:146: RRuntimeWarning: There were 12 warnings (use warnings() to see them)\n",
      "  warnings.warn(x, RRuntimeWarning)\n",
      "/Volumes/Coatamer/Users/weinberz/miniconda3/envs/py37/lib/python3.7/site-packages/rpy2/rinterface/__init__.py:146: RRuntimeWarning: \n",
      "\n",
      "  warnings.warn(x, RRuntimeWarning)\n",
      "/Volumes/Coatamer/Users/weinberz/miniconda3/envs/py37/lib/python3.7/site-packages/rpy2/rinterface/__init__.py:146: RRuntimeWarning: Error in NCOL(eta) : object 'eta' not found\n",
      "\n",
      "  warnings.warn(x, RRuntimeWarning)\n",
      "/Volumes/Coatamer/Users/weinberz/miniconda3/envs/py37/lib/python3.7/site-packages/rpy2/rinterface/__init__.py:146: RRuntimeWarning: Warning messages:\n",
      "\n",
      "  warnings.warn(x, RRuntimeWarning)\n",
      "/Volumes/Coatamer/Users/weinberz/miniconda3/envs/py37/lib/python3.7/site-packages/rpy2/rinterface/__init__.py:146: RRuntimeWarning: 1: \n",
      "  warnings.warn(x, RRuntimeWarning)\n",
      "/Volumes/Coatamer/Users/weinberz/miniconda3/envs/py37/lib/python3.7/site-packages/rpy2/rinterface/__init__.py:146: RRuntimeWarning: In vglm.fitter(x = x, y = y, w = w, offset = offset, Xm2 = Xm2,  :\n",
      "  warnings.warn(x, RRuntimeWarning)\n",
      "/Volumes/Coatamer/Users/weinberz/miniconda3/envs/py37/lib/python3.7/site-packages/rpy2/rinterface/__init__.py:146: RRuntimeWarning: \n",
      " \n",
      "  warnings.warn(x, RRuntimeWarning)\n",
      "/Volumes/Coatamer/Users/weinberz/miniconda3/envs/py37/lib/python3.7/site-packages/rpy2/rinterface/__init__.py:146: RRuntimeWarning:  convergence not obtained in 30 IRLS iterations\n",
      "\n",
      "  warnings.warn(x, RRuntimeWarning)\n",
      "/Volumes/Coatamer/Users/weinberz/miniconda3/envs/py37/lib/python3.7/site-packages/rpy2/rinterface/__init__.py:146: RRuntimeWarning: 2: \n",
      "  warnings.warn(x, RRuntimeWarning)\n",
      "/Volumes/Coatamer/Users/weinberz/miniconda3/envs/py37/lib/python3.7/site-packages/rpy2/rinterface/__init__.py:146: RRuntimeWarning: In min(y) :\n",
      "  warnings.warn(x, RRuntimeWarning)\n",
      "/Volumes/Coatamer/Users/weinberz/miniconda3/envs/py37/lib/python3.7/site-packages/rpy2/rinterface/__init__.py:146: RRuntimeWarning:  no non-missing arguments to min; returning Inf\n",
      "\n",
      "  warnings.warn(x, RRuntimeWarning)\n",
      "/Volumes/Coatamer/Users/weinberz/miniconda3/envs/py37/lib/python3.7/site-packages/rpy2/rinterface/__init__.py:146: RRuntimeWarning: Warning message:\n",
      "\n",
      "  warnings.warn(x, RRuntimeWarning)\n",
      "/Volumes/Coatamer/Users/weinberz/miniconda3/envs/py37/lib/python3.7/site-packages/rpy2/rinterface/__init__.py:146: RRuntimeWarning:  iterations terminated because half-step sizes are very small\n",
      "\n",
      "  warnings.warn(x, RRuntimeWarning)\n",
      "/Volumes/Coatamer/Users/weinberz/miniconda3/envs/py37/lib/python3.7/site-packages/rpy2/rinterface/__init__.py:146: RRuntimeWarning:  some quantities such as z, residuals, SEs may be inaccurate due to convergence at a half-step\n",
      "\n",
      "  warnings.warn(x, RRuntimeWarning)\n",
      "/Volumes/Coatamer/Users/weinberz/Google Drive/Code/puffapy/lib/detection.py:343: RuntimeWarning: invalid value encountered in greater\n",
      "  plm = plm[np.where(plmval > thresh)]\n",
      "/Volumes/Coatamer/Users/weinberz/miniconda3/envs/py37/lib/python3.7/site-packages/rpy2/rinterface/__init__.py:146: RRuntimeWarning: There were 38 warnings (use warnings() to see them)\n",
      "  warnings.warn(x, RRuntimeWarning)\n",
      "/Volumes/Coatamer/Users/weinberz/miniconda3/envs/py37/lib/python3.7/site-packages/rpy2/rinterface/__init__.py:146: RRuntimeWarning: Error in vglm.fitter(x = x, y = y, w = w, offset = offset, Xm2 = Xm2,  : \n",
      "  There are 8 parameters but only 6 observations\n",
      "\n",
      "  warnings.warn(x, RRuntimeWarning)\n"
     ]
    },
    {
     "name": "stdout",
     "output_type": "stream",
     "text": [
      "Finished (2067 seconds)\n",
      "Getting intensities for 9VEA7WGA.tif... Finished (39 seconds)\n",
      "Getting features for 9VEA7WGA.tif... Finished (2407 seconds)\n",
      "Completed 9VEA7WGA.tif in 2457.87335\n",
      "\n"
     ]
    }
   ],
   "source": [
    "for pair in tqdm(matched_pairs[17:]):\n",
    "    st_time = time.time()\n",
    "    movie = pair[0]\n",
    "    label = pair[1]\n",
    "    events, intensities, features = detection.process_movie(basedir + os.sep + movie, markers=basedir + os.sep + label)\n",
    "    print('Completed %s in %.5f' % (movie, (time.time()-st_time)))"
   ]
  },
  {
   "cell_type": "code",
   "execution_count": null,
   "metadata": {},
   "outputs": [],
   "source": []
  }
 ],
 "metadata": {
  "kernelspec": {
   "display_name": "Python [conda env:py37] *",
   "language": "python",
   "name": "conda-env-py37-py"
  },
  "language_info": {
   "codemirror_mode": {
    "name": "ipython",
    "version": 3
   },
   "file_extension": ".py",
   "mimetype": "text/x-python",
   "name": "python",
   "nbconvert_exporter": "python",
   "pygments_lexer": "ipython3",
   "version": "3.7.3"
  }
 },
 "nbformat": 4,
 "nbformat_minor": 4
}
