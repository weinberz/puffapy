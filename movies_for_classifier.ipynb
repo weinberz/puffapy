{
 "cells": [
  {
   "cell_type": "code",
   "execution_count": 1,
   "metadata": {},
   "outputs": [],
   "source": [
    "import warnings\n",
    "warnings.simplefilter(action='ignore', category=FutureWarning)\n",
    "\n",
    "from lib import detection\n",
    "from lib import analysis\n",
    "import numpy as np\n",
    "import pandas as pd\n",
    "\n",
    "from tqdm.auto import tqdm\n",
    "\n",
    "import time\n",
    "\n",
    "import os"
   ]
  },
  {
   "cell_type": "code",
   "execution_count": 2,
   "metadata": {},
   "outputs": [],
   "source": [
    "basedir = '/Volumes/Coatamer/Users/weinberz/UM Drive/OPP'\n",
    "files = os.listdir(basedir)\n",
    "tifs = [tif for tif in files if 'tif' in tif]\n",
    "xmls = [xml for xml in files if 'xml' in xml]\n",
    "matched_pairs = []\n",
    "for tif in tifs:\n",
    "    movie_name = tif.split('.')[0]\n",
    "    matches = [xml for xml in xmls if movie_name in xml]\n",
    "    if matches:\n",
    "        matched_pairs.append((tif, matches[0]))"
   ]
  },
  {
   "cell_type": "code",
   "execution_count": 3,
   "metadata": {
    "collapsed": true,
    "jupyter": {
     "outputs_hidden": true,
     "source_hidden": true
    }
   },
   "outputs": [
    {
     "name": "stdout",
     "output_type": "stream",
     "text": [
      "Getting features for 0IYVHRNA.tif... Finished (599 seconds)\n",
      "Getting features for 19CC75ZU.tif... Finished (1312 seconds)\n",
      "Getting features for 2TZWB6CN.tif... Finished (455 seconds)\n",
      "Getting features for 3W70AV4V.tif... Finished (714 seconds)\n",
      "Getting features for 3WE2GUYC.tif... Finished (957 seconds)\n",
      "Getting features for 42GSRFR0.tif... Finished (756 seconds)\n",
      "Getting features for 53BFW81Q.tif... Finished (956 seconds)\n",
      "Getting features for 56CCWWJI.tif... Finished (411 seconds)\n",
      "Getting features for 5FWR8G3N.tif... Finished (720 seconds)\n",
      "Getting features for 5RTVNBXU.tif... Finished (736 seconds)\n",
      "Getting features for 6SG3YVW7.tif... Finished (885 seconds)\n",
      "Getting features for 79NWKD4H.tif... Finished (212 seconds)\n",
      "Getting features for 7C4SV01F.tif... Finished (780 seconds)\n",
      "Getting features for 7XFW332I.tif... Finished (787 seconds)\n",
      "Getting features for 7XGJBQQ3.tif... Finished (616 seconds)\n",
      "Getting features for 7YFIHF8P.tif... Finished (488 seconds)\n",
      "Getting features for 8C92MS0M.tif... Finished (933 seconds)\n",
      "Getting features for 9VEA7WGA.tif... Finished (328 seconds)\n"
     ]
    }
   ],
   "source": [
    "for tif in np.array(matched_pairs)[:,0]:\n",
    "    events = pd.read_csv('data/' + tif + '_events.csv', index_col=0)\n",
    "    intensities = pd.read_csv('data/' + tif + '_intensities.csv', index_col=0)\n",
    "    t_start = time.time()\n",
    "    print(\"Getting features for %s... \" % tif, end='')\n",
    "    features = analysis.get_features(events, intensities)\n",
    "    features.to_csv(tif + '_features.csv')\n",
    "        \n",
    "    t_features = (time.time() - t_start)\n",
    "    print(\"Finished (%d seconds)\" % t_features)"
   ]
  },
  {
   "cell_type": "code",
   "execution_count": 4,
   "metadata": {},
   "outputs": [
    {
     "data": {
      "text/plain": [
       "[('0IYVHRNA.tif', '0IYVHRNA-ZYW-1.xml'),\n",
       " ('1606ZQOT.tif', '1606ZQOT-ZYW-1.xml'),\n",
       " ('19CC75ZU.tif', '19CC75ZU-ZYW-1.xml'),\n",
       " ('2TZWB6CN.tif', '2TZWB6CN-ZYW-1.xml'),\n",
       " ('3W70AV4V.tif', '3W70AV4V-ZYW-1.xml'),\n",
       " ('3WE2GUYC.tif', '3WE2GUYC-ZYW-1.xml'),\n",
       " ('42GSRFR0.tif', '42GSRFR0-ZYW-1.xml'),\n",
       " ('53BFW81Q.tif', '53BFW81Q-ZYW-1.xml'),\n",
       " ('56CCWWJI.tif', '56CCWWJI-ZYW-1.xml'),\n",
       " ('5FWR8G3N.tif', '5FWR8G3N-ZYW-1.xml'),\n",
       " ('5RTVNBXU.tif', '5RTVNBXU-ZYW-1.xml'),\n",
       " ('6SG3YVW7.tif', '6SG3YVW7-ZYW-1.xml'),\n",
       " ('79NWKD4H.tif', '79NWKD4H-ZYW-1.xml'),\n",
       " ('7C4SV01F.tif', '7C4SV01F-ZYW-1.xml'),\n",
       " ('7XFW332I.tif', '7XFW332I-ZYW-1.xml'),\n",
       " ('7XGJBQQ3.tif', '7XGJBQQ3-ZYW-1.xml'),\n",
       " ('7YFIHF8P.tif', '7YFIHF8P-ZYW-1.xml'),\n",
       " ('8C92MS0M.tif', '8C92MS0M-ZYW-1.xml'),\n",
       " ('9VEA7WGA.tif', '9VEA7WGA-ZYW-1.xml'),\n",
       " ('ACSKAOE5.tif', 'ACSKAOE5-ZYW-1.xml'),\n",
       " ('AVRI5TNO.tif', 'AVRI5TNO-ZYW-1.xml'),\n",
       " ('BLPOHKJD.tif', 'BLPOHKJD-ZYW-1.xml')]"
      ]
     },
     "execution_count": 4,
     "metadata": {},
     "output_type": "execute_result"
    }
   ],
   "source": [
    "matched_pairs"
   ]
  },
  {
   "cell_type": "code",
   "execution_count": 3,
   "metadata": {
    "collapsed": true,
    "jupyter": {
     "outputs_hidden": true
    }
   },
   "outputs": [
    {
     "data": {
      "application/vnd.jupyter.widget-view+json": {
       "model_id": "81a9a14426934c999c60242de0c449c3",
       "version_major": 2,
       "version_minor": 0
      },
      "text/plain": [
       "HBox(children=(IntProgress(value=0, max=22), HTML(value='')))"
      ]
     },
     "metadata": {},
     "output_type": "display_data"
    },
    {
     "name": "stdout",
     "output_type": "stream",
     "text": [
      "Getting events for 0IYVHRNA.tif... Finished (2198 seconds)\n",
      "Getting intensities for 0IYVHRNA.tif... Finished (59 seconds)\n",
      "Getting features for 0IYVHRNA.tif... Finished (2756 seconds)\n",
      "Completed 0IYVHRNA.tif in 2826.80553\n",
      "Getting events for 1606ZQOT.tif... Finished (2218 seconds)\n",
      "Getting intensities for 1606ZQOT.tif... Finished (97 seconds)\n",
      "Getting features for 1606ZQOT.tif... Finished (3122 seconds)\n",
      "Completed 1606ZQOT.tif in 3244.49417\n",
      "Getting events for 19CC75ZU.tif... Finished (2305 seconds)\n",
      "Getting intensities for 19CC75ZU.tif... Finished (133 seconds)\n",
      "Getting features for 19CC75ZU.tif... Finished (3543 seconds)\n",
      "Completed 19CC75ZU.tif in 3701.84946\n",
      "Getting events for 2TZWB6CN.tif... Finished (1969 seconds)\n",
      "Getting intensities for 2TZWB6CN.tif... Finished (48 seconds)\n",
      "Getting features for 2TZWB6CN.tif... Finished (2385 seconds)\n",
      "Completed 2TZWB6CN.tif in 2461.87587\n",
      "Getting events for 3W70AV4V.tif... Finished (1991 seconds)\n",
      "Getting intensities for 3W70AV4V.tif... Finished (71 seconds)\n",
      "Getting features for 3W70AV4V.tif... Finished (2704 seconds)\n",
      "Completed 3W70AV4V.tif in 2801.93269\n",
      "Getting events for 3WE2GUYC.tif... Finished (2164 seconds)\n",
      "Getting intensities for 3WE2GUYC.tif... Finished (100 seconds)\n",
      "Getting features for 3WE2GUYC.tif... Finished (3119 seconds)\n",
      "Completed 3WE2GUYC.tif in 3243.53733\n",
      "Getting events for 42GSRFR0.tif... Finished (2061 seconds)\n",
      "Getting intensities for 42GSRFR0.tif... Finished (76 seconds)\n",
      "Getting features for 42GSRFR0.tif... Finished (2808 seconds)\n",
      "Completed 42GSRFR0.tif in 2907.61091\n",
      "Getting events for 53BFW81Q.tif... Finished (2192 seconds)\n",
      "Getting intensities for 53BFW81Q.tif... Finished (96 seconds)\n",
      "Getting features for 53BFW81Q.tif... Finished (3121 seconds)\n",
      "Completed 53BFW81Q.tif in 3241.87181\n",
      "Getting events for 56CCWWJI.tif... Finished (1952 seconds)\n",
      "Getting intensities for 56CCWWJI.tif... Finished (44 seconds)\n",
      "Getting features for 56CCWWJI.tif... Finished (2340 seconds)\n",
      "Completed 56CCWWJI.tif in 2410.96064\n",
      "Getting events for 5FWR8G3N.tif... Finished (2072 seconds)\n",
      "Getting intensities for 5FWR8G3N.tif... Finished (69 seconds)\n",
      "Getting features for 5FWR8G3N.tif... Finished (2756 seconds)\n",
      "Completed 5FWR8G3N.tif in 2850.64426\n",
      "Getting events for 5RTVNBXU.tif... Finished (2062 seconds)\n",
      "Getting intensities for 5RTVNBXU.tif... Finished (71 seconds)\n",
      "Getting features for 5RTVNBXU.tif... Finished (2765 seconds)\n",
      "Completed 5RTVNBXU.tif in 2860.38029\n",
      "Getting events for 6SG3YVW7.tif... Finished (2115 seconds)\n",
      "Getting intensities for 6SG3YVW7.tif... Finished (85 seconds)\n",
      "Getting features for 6SG3YVW7.tif... Finished (2920 seconds)\n",
      "Completed 6SG3YVW7.tif in 3031.77414\n",
      "Getting events for 79NWKD4H.tif... "
     ]
    },
    {
     "name": "stderr",
     "output_type": "stream",
     "text": [
      "/Volumes/Coatamer/Users/weinberz/miniconda3/envs/py37/lib/python3.7/site-packages/rpy2/rinterface/__init__.py:146: RRuntimeWarning: Error in vglm.fitter(x = x, y = y, w = w, offset = offset, Xm2 = Xm2,  : \n",
      "  vglm() only handles full-rank models (currently)\n",
      "\n",
      "  warnings.warn(x, RRuntimeWarning)\n",
      "/Volumes/Coatamer/Users/weinberz/miniconda3/envs/py37/lib/python3.7/site-packages/rpy2/rinterface/__init__.py:146: RRuntimeWarning: In addition: \n",
      "  warnings.warn(x, RRuntimeWarning)\n",
      "/Volumes/Coatamer/Users/weinberz/miniconda3/envs/py37/lib/python3.7/site-packages/rpy2/rinterface/__init__.py:146: RRuntimeWarning: There were 50 or more warnings (use warnings() to see the first 50)\n",
      "  warnings.warn(x, RRuntimeWarning)\n",
      "/Volumes/Coatamer/Users/weinberz/miniconda3/envs/py37/lib/python3.7/site-packages/rpy2/rinterface/__init__.py:146: RRuntimeWarning: \n",
      "\n",
      "  warnings.warn(x, RRuntimeWarning)\n"
     ]
    },
    {
     "name": "stdout",
     "output_type": "stream",
     "text": [
      "Finished (1885 seconds)\n",
      "Getting intensities for 79NWKD4H.tif... Finished (24 seconds)\n",
      "Getting features for 79NWKD4H.tif... Finished (2076 seconds)\n",
      "Completed 79NWKD4H.tif in 2124.05995\n",
      "Getting events for 7C4SV01F.tif... Finished (2157 seconds)\n",
      "Getting intensities for 7C4SV01F.tif... Finished (74 seconds)\n",
      "Getting features for 7C4SV01F.tif... Finished (2847 seconds)\n",
      "Completed 7C4SV01F.tif in 2944.24868\n",
      "Getting events for 7XFW332I.tif... Finished (1933 seconds)\n",
      "Getting intensities for 7XFW332I.tif... Finished (79 seconds)\n",
      "Getting features for 7XFW332I.tif... Finished (2672 seconds)\n",
      "Completed 7XFW332I.tif in 2775.13380\n",
      "Getting events for 7XGJBQQ3.tif... Finished (2012 seconds)\n",
      "Getting intensities for 7XGJBQQ3.tif... Finished (60 seconds)\n",
      "Getting features for 7XGJBQQ3.tif... Finished (2592 seconds)\n",
      "Completed 7XGJBQQ3.tif in 2677.67106\n",
      "Getting events for 7YFIHF8P.tif... Finished (1001 seconds)\n",
      "Getting intensities for 7YFIHF8P.tif... Finished (53 seconds)\n",
      "Getting features for 7YFIHF8P.tif... Finished (1498 seconds)\n",
      "Completed 7YFIHF8P.tif in 1562.04685\n",
      "Getting events for 8C92MS0M.tif... Finished (2250 seconds)\n",
      "Getting intensities for 8C92MS0M.tif... Finished (101 seconds)\n",
      "Getting features for 8C92MS0M.tif... Finished (3278 seconds)\n",
      "Completed 8C92MS0M.tif in 3403.04101\n",
      "Getting events for 9VEA7WGA.tif... "
     ]
    },
    {
     "name": "stderr",
     "output_type": "stream",
     "text": [
      "/Volumes/Coatamer/Users/weinberz/miniconda3/envs/py37/lib/python3.7/site-packages/rpy2/rinterface/__init__.py:146: RRuntimeWarning: Error in NCOL(eta) : object 'eta' not found\n",
      "\n",
      "  warnings.warn(x, RRuntimeWarning)\n",
      "/Volumes/Coatamer/Users/weinberz/miniconda3/envs/py37/lib/python3.7/site-packages/rpy2/rinterface/__init__.py:146: RRuntimeWarning: Warning messages:\n",
      "\n",
      "  warnings.warn(x, RRuntimeWarning)\n",
      "/Volumes/Coatamer/Users/weinberz/miniconda3/envs/py37/lib/python3.7/site-packages/rpy2/rinterface/__init__.py:146: RRuntimeWarning: 1: \n",
      "  warnings.warn(x, RRuntimeWarning)\n",
      "/Volumes/Coatamer/Users/weinberz/miniconda3/envs/py37/lib/python3.7/site-packages/rpy2/rinterface/__init__.py:146: RRuntimeWarning: In vglm.fitter(x = x, y = y, w = w, offset = offset, Xm2 = Xm2,  :\n",
      "  warnings.warn(x, RRuntimeWarning)\n",
      "/Volumes/Coatamer/Users/weinberz/miniconda3/envs/py37/lib/python3.7/site-packages/rpy2/rinterface/__init__.py:146: RRuntimeWarning: \n",
      " \n",
      "  warnings.warn(x, RRuntimeWarning)\n",
      "/Volumes/Coatamer/Users/weinberz/miniconda3/envs/py37/lib/python3.7/site-packages/rpy2/rinterface/__init__.py:146: RRuntimeWarning:  convergence not obtained in 30 IRLS iterations\n",
      "\n",
      "  warnings.warn(x, RRuntimeWarning)\n",
      "/Volumes/Coatamer/Users/weinberz/miniconda3/envs/py37/lib/python3.7/site-packages/rpy2/rinterface/__init__.py:146: RRuntimeWarning: 2: \n",
      "  warnings.warn(x, RRuntimeWarning)\n",
      "/Volumes/Coatamer/Users/weinberz/miniconda3/envs/py37/lib/python3.7/site-packages/rpy2/rinterface/__init__.py:146: RRuntimeWarning: In min(y) :\n",
      "  warnings.warn(x, RRuntimeWarning)\n",
      "/Volumes/Coatamer/Users/weinberz/miniconda3/envs/py37/lib/python3.7/site-packages/rpy2/rinterface/__init__.py:146: RRuntimeWarning:  no non-missing arguments to min; returning Inf\n",
      "\n",
      "  warnings.warn(x, RRuntimeWarning)\n",
      "/Volumes/Coatamer/Users/weinberz/miniconda3/envs/py37/lib/python3.7/site-packages/rpy2/rinterface/__init__.py:146: RRuntimeWarning: Warning message:\n",
      "\n",
      "  warnings.warn(x, RRuntimeWarning)\n",
      "/Volumes/Coatamer/Users/weinberz/miniconda3/envs/py37/lib/python3.7/site-packages/rpy2/rinterface/__init__.py:146: RRuntimeWarning:  iterations terminated because half-step sizes are very small\n",
      "\n",
      "  warnings.warn(x, RRuntimeWarning)\n",
      "/Volumes/Coatamer/Users/weinberz/miniconda3/envs/py37/lib/python3.7/site-packages/rpy2/rinterface/__init__.py:146: RRuntimeWarning:  some quantities such as z, residuals, SEs may be inaccurate due to convergence at a half-step\n",
      "\n",
      "  warnings.warn(x, RRuntimeWarning)\n",
      "/Volumes/Coatamer/Users/weinberz/Google Drive/Code/puffapy/lib/detection.py:345: RuntimeWarning: invalid value encountered in greater\n",
      "  plm = plm[np.where(plmval > thresh)]\n",
      "/Volumes/Coatamer/Users/weinberz/miniconda3/envs/py37/lib/python3.7/site-packages/rpy2/rinterface/__init__.py:146: RRuntimeWarning: There were 38 warnings (use warnings() to see them)\n",
      "  warnings.warn(x, RRuntimeWarning)\n",
      "/Volumes/Coatamer/Users/weinberz/miniconda3/envs/py37/lib/python3.7/site-packages/rpy2/rinterface/__init__.py:146: RRuntimeWarning: Error in vglm.fitter(x = x, y = y, w = w, offset = offset, Xm2 = Xm2,  : \n",
      "  There are 8 parameters but only 6 observations\n",
      "\n",
      "  warnings.warn(x, RRuntimeWarning)\n"
     ]
    },
    {
     "name": "stdout",
     "output_type": "stream",
     "text": [
      "Finished (2028 seconds)\n",
      "Getting intensities for 9VEA7WGA.tif... Finished (38 seconds)\n",
      "Getting features for 9VEA7WGA.tif... Finished (2350 seconds)\n",
      "Completed 9VEA7WGA.tif in 2419.58276\n",
      "Getting events for ACSKAOE5.tif... Finished (2278 seconds)\n",
      "Getting intensities for ACSKAOE5.tif... Finished (83 seconds)\n",
      "Getting features for ACSKAOE5.tif... Finished (3093 seconds)\n",
      "Completed ACSKAOE5.tif in 3205.95206\n",
      "Getting events for AVRI5TNO.tif... Finished (2298 seconds)\n",
      "Getting intensities for AVRI5TNO.tif... Finished (105 seconds)\n",
      "Getting features for AVRI5TNO.tif... Finished (3289 seconds)\n",
      "Completed AVRI5TNO.tif in 3423.88243\n",
      "Getting events for BLPOHKJD.tif... Finished (2098 seconds)\n",
      "Getting intensities for BLPOHKJD.tif... Finished (45 seconds)\n",
      "Getting features for BLPOHKJD.tif... Finished (2554 seconds)\n",
      "Completed BLPOHKJD.tif in 2628.57297\n",
      "\n"
     ]
    }
   ],
   "source": [
    "for pair in tqdm(matched_pairs):\n",
    "    st_time = time.time()\n",
    "    movie = pair[0]\n",
    "    label = pair[1]\n",
    "    events, intensities, features = detection.process_movie(basedir + os.sep + movie, markers=basedir + os.sep + label)\n",
    "    print('Completed %s in %.5f' % (movie, (time.time()-st_time)))"
   ]
  },
  {
   "cell_type": "code",
   "execution_count": 23,
   "metadata": {},
   "outputs": [
    {
     "data": {
      "application/vnd.jupyter.widget-view+json": {
       "model_id": "f4031160c2e944df835a78901e8c6bd9",
       "version_major": 2,
       "version_minor": 0
      },
      "text/plain": [
       "HBox(children=(IntProgress(value=0, max=22), HTML(value='')))"
      ]
     },
     "metadata": {},
     "output_type": "display_data"
    },
    {
     "name": "stdout",
     "output_type": "stream",
     "text": [
      "Getting features for 0IYVHRNA.tif... Finished (741 seconds)\n",
      "Getting features for 1606ZQOT.tif... Finished (1064 seconds)\n",
      "Getting features for 19CC75ZU.tif... Finished (1377 seconds)\n",
      "Getting features for 2TZWB6CN.tif... Finished (455 seconds)\n",
      "Getting features for 3W70AV4V.tif... Finished (716 seconds)\n",
      "Getting features for 3WE2GUYC.tif... Finished (965 seconds)\n",
      "Getting features for 42GSRFR0.tif... Finished (759 seconds)\n",
      "Getting features for 53BFW81Q.tif... Finished (976 seconds)\n",
      "Getting features for 56CCWWJI.tif... Finished (427 seconds)\n",
      "Getting features for 5FWR8G3N.tif... Finished (700 seconds)\n",
      "Getting features for 5RTVNBXU.tif... Finished (708 seconds)\n",
      "Getting features for 6SG3YVW7.tif... Finished (821 seconds)\n",
      "Getting features for 79NWKD4H.tif... Finished (207 seconds)\n",
      "Getting features for 7C4SV01F.tif... Finished (715 seconds)\n",
      "Getting features for 7XFW332I.tif... Finished (758 seconds)\n",
      "Getting features for 7XGJBQQ3.tif... Finished (592 seconds)\n",
      "Getting features for 7YFIHF8P.tif... Finished (484 seconds)\n",
      "Getting features for 8C92MS0M.tif... Finished (897 seconds)\n",
      "Getting features for 9VEA7WGA.tif... Finished (338 seconds)\n",
      "Getting features for ACSKAOE5.tif... Finished (731 seconds)\n",
      "Getting features for AVRI5TNO.tif... Finished (1027 seconds)\n",
      "Getting features for BLPOHKJD.tif... Finished (408 seconds)\n"
     ]
    }
   ],
   "source": [
    "for pair in tqdm(matched_pairs):\n",
    "    movie = pair[0]\n",
    "    t_start = time.time()\n",
    "    print(\"Getting features for %s... \" % movie, end='')\n",
    "    events = pd.read_csv('data' + os.sep + movie + '_events.csv', index_col=0)\n",
    "    intensities = pd.read_csv('data' + os.sep + movie + '_intensities.csv', index_col=0)\n",
    "    features = analysis.get_features(events, intensities)\n",
    "    features.to_csv(movie + '_features.csv')\n",
    "    print(\"Finished (%d seconds)\" % (time.time() - t_start))"
   ]
  }
 ],
 "metadata": {
  "kernelspec": {
   "display_name": "Python [conda env:py37] *",
   "language": "python",
   "name": "conda-env-py37-py"
  },
  "language_info": {
   "codemirror_mode": {
    "name": "ipython",
    "version": 3
   },
   "file_extension": ".py",
   "mimetype": "text/x-python",
   "name": "python",
   "nbconvert_exporter": "python",
   "pygments_lexer": "ipython3",
   "version": "3.7.3"
  }
 },
 "nbformat": 4,
 "nbformat_minor": 4
}
