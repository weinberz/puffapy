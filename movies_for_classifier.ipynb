{
 "cells": [
  {
   "cell_type": "code",
   "execution_count": 1,
   "metadata": {},
   "outputs": [],
   "source": [
    "import warnings\n",
    "warnings.simplefilter(action='ignore', category=FutureWarning)\n",
    "\n",
    "from lib import detection\n",
    "from lib import analysis\n",
    "import numpy as np\n",
    "import pandas as pd\n",
    "\n",
    "from tqdm.auto import tqdm\n",
    "\n",
    "import time\n",
    "\n",
    "import os"
   ]
  },
  {
   "cell_type": "code",
   "execution_count": 2,
   "metadata": {},
   "outputs": [],
   "source": [
    "basedir = '/Volumes/Coatamer/Users/weinberz/UM Drive/OPP'\n",
    "files = os.listdir(basedir)\n",
    "tifs = [tif for tif in files if 'tif' in tif]\n",
    "xmls = [xml for xml in files if 'xml' in xml]\n",
    "matched_pairs = []\n",
    "for tif in tifs:\n",
    "    movie_name = tif.split('.')[0]\n",
    "    matches = [xml for xml in xmls if movie_name in xml]\n",
    "    if matches:\n",
    "        matched_pairs.append((tif, matches[0]))"
   ]
  },
  {
   "cell_type": "code",
   "execution_count": 3,
   "metadata": {},
   "outputs": [
    {
     "data": {
      "text/plain": [
       "[('0IYVHRNA.tif', '0IYVHRNA-ZYW-1.xml'),\n",
       " ('19CC75ZU.tif', '19CC75ZU-ZYW-1.xml'),\n",
       " ('2TZWB6CN.tif', '2TZWB6CN-ZYW-1.xml'),\n",
       " ('3W70AV4V.tif', '3W70AV4V-ZYW-1.xml'),\n",
       " ('3WE2GUYC.tif', '3WE2GUYC-ZYW-1.xml'),\n",
       " ('42GSRFR0.tif', '42GSRFR0-ZYW-1.xml'),\n",
       " ('53BFW81Q.tif', '53BFW81Q-ZYW-1.xml'),\n",
       " ('56CCWWJI.tif', '56CCWWJI-ZYW-1.xml'),\n",
       " ('5FWR8G3N.tif', '5FWR8G3N-ZYW-1.xml'),\n",
       " ('5RTVNBXU.tif', '5RTVNBXU-ZYW-1.xml'),\n",
       " ('6SG3YVW7.tif', '6SG3YVW7-ZYW-1.xml'),\n",
       " ('79NWKD4H.tif', '79NWKD4H-ZYW-1.xml'),\n",
       " ('7C4SV01F.tif', '7C4SV01F-ZYW-1.xml'),\n",
       " ('7XFW332I.tif', '7XFW332I-ZYW-1.xml'),\n",
       " ('7XGJBQQ3.tif', '7XGJBQQ3-ZYW-1.xml'),\n",
       " ('7YFIHF8P.tif', '7YFIHF8P-ZYW-1.xml'),\n",
       " ('8C92MS0M.tif', '8C92MS0M-ZYW-1.xml'),\n",
       " ('9VEA7WGA.tif', '9VEA7WGA-ZYW-1.xml')]"
      ]
     },
     "execution_count": 3,
     "metadata": {},
     "output_type": "execute_result"
    }
   ],
   "source": [
    "matched_pairs"
   ]
  },
  {
   "cell_type": "code",
   "execution_count": 4,
   "metadata": {},
   "outputs": [
    {
     "data": {
      "application/vnd.jupyter.widget-view+json": {
       "model_id": "ffc28cf381614b02998b48e8746fa533",
       "version_major": 2,
       "version_minor": 0
      },
      "text/plain": [
       "HBox(children=(IntProgress(value=0, max=18), HTML(value='')))"
      ]
     },
     "metadata": {},
     "output_type": "display_data"
    },
    {
     "name": "stdout",
     "output_type": "stream",
     "text": [
      "Getting events for 0IYVHRNA.tif... Finished (2353 seconds)\n",
      "Getting intensities for 0IYVHRNA.tif... Finished (62 seconds)\n",
      "Getting features for 0IYVHRNA.tif... Finished (2919 seconds)\n",
      "Completed 0IYVHRNA.tif in 3007.69592\n",
      "Getting events for 19CC75ZU.tif... Finished (2452 seconds)\n",
      "Getting intensities for 19CC75ZU.tif... Finished (139 seconds)\n",
      "Getting features for 19CC75ZU.tif... Finished (3724 seconds)\n",
      "Completed 19CC75ZU.tif in 3888.55957\n",
      "Getting events for 2TZWB6CN.tif... Finished (2049 seconds)\n",
      "Getting intensities for 2TZWB6CN.tif... Finished (50 seconds)\n",
      "Getting features for 2TZWB6CN.tif... Finished (2475 seconds)\n",
      "Completed 2TZWB6CN.tif in 2552.84062\n",
      "Getting events for 3W70AV4V.tif... Finished (2076 seconds)\n",
      "Getting intensities for 3W70AV4V.tif... Finished (73 seconds)\n",
      "Getting features for 3W70AV4V.tif... Finished (2773 seconds)\n",
      "Completed 3W70AV4V.tif in 2876.58023\n",
      "Getting events for 3WE2GUYC.tif... Finished (2270 seconds)\n",
      "Getting intensities for 3WE2GUYC.tif... Finished (100 seconds)\n",
      "Getting features for 3WE2GUYC.tif... Finished (3221 seconds)\n",
      "Completed 3WE2GUYC.tif in 3346.04075\n",
      "Getting events for 42GSRFR0.tif... Finished (2149 seconds)\n",
      "Getting intensities for 42GSRFR0.tif... Finished (79 seconds)\n",
      "Getting features for 42GSRFR0.tif... Finished (2905 seconds)\n",
      "Completed 42GSRFR0.tif in 3012.20112\n",
      "Getting events for 53BFW81Q.tif... Finished (2361 seconds)\n",
      "Getting intensities for 53BFW81Q.tif... Finished (101 seconds)\n",
      "Getting features for 53BFW81Q.tif... Finished (3376 seconds)\n",
      "Completed 53BFW81Q.tif in 3515.18508\n",
      "Getting events for 56CCWWJI.tif... Finished (2079 seconds)\n",
      "Getting intensities for 56CCWWJI.tif... Finished (45 seconds)\n",
      "Getting features for 56CCWWJI.tif... Finished (2468 seconds)\n",
      "Completed 56CCWWJI.tif in 2543.82111\n",
      "Getting events for 5FWR8G3N.tif... Finished (2154 seconds)\n",
      "Getting intensities for 5FWR8G3N.tif... Finished (70 seconds)\n",
      "Getting features for 5FWR8G3N.tif... Finished (2854 seconds)\n",
      "Completed 5FWR8G3N.tif in 2948.38652\n",
      "Getting events for 5RTVNBXU.tif... Finished (2131 seconds)\n",
      "Getting intensities for 5RTVNBXU.tif... Finished (75 seconds)\n",
      "Getting features for 5RTVNBXU.tif... Finished (2846 seconds)\n",
      "Completed 5RTVNBXU.tif in 2945.51236\n",
      "Getting events for 6SG3YVW7.tif... Finished (2208 seconds)\n",
      "Getting intensities for 6SG3YVW7.tif... Finished (87 seconds)\n",
      "Getting features for 6SG3YVW7.tif... Finished (3017 seconds)\n",
      "Completed 6SG3YVW7.tif in 3128.83102\n",
      "Getting events for 79NWKD4H.tif... "
     ]
    },
    {
     "name": "stderr",
     "output_type": "stream",
     "text": [
      "/Volumes/Coatamer/Users/weinberz/miniconda3/envs/py37/lib/python3.7/site-packages/rpy2/rinterface/__init__.py:146: RRuntimeWarning: Error in vglm.fitter(x = x, y = y, w = w, offset = offset, Xm2 = Xm2,  : \n",
      "  vglm() only handles full-rank models (currently)\n",
      "\n",
      "  warnings.warn(x, RRuntimeWarning)\n",
      "/Volumes/Coatamer/Users/weinberz/miniconda3/envs/py37/lib/python3.7/site-packages/rpy2/rinterface/__init__.py:146: RRuntimeWarning: In addition: \n",
      "  warnings.warn(x, RRuntimeWarning)\n",
      "/Volumes/Coatamer/Users/weinberz/miniconda3/envs/py37/lib/python3.7/site-packages/rpy2/rinterface/__init__.py:146: RRuntimeWarning: There were 50 or more warnings (use warnings() to see the first 50)\n",
      "  warnings.warn(x, RRuntimeWarning)\n",
      "/Volumes/Coatamer/Users/weinberz/miniconda3/envs/py37/lib/python3.7/site-packages/rpy2/rinterface/__init__.py:146: RRuntimeWarning: \n",
      "\n",
      "  warnings.warn(x, RRuntimeWarning)\n"
     ]
    },
    {
     "name": "stdout",
     "output_type": "stream",
     "text": [
      "Finished (1933 seconds)\n",
      "Getting intensities for 79NWKD4H.tif... Finished (24 seconds)\n",
      "Getting features for 79NWKD4H.tif... Finished (2124 seconds)\n",
      "Completed 79NWKD4H.tif in 2170.76944\n",
      "Getting events for 7C4SV01F.tif... Finished (2254 seconds)\n",
      "Getting intensities for 7C4SV01F.tif... Finished (73 seconds)\n",
      "Getting features for 7C4SV01F.tif... Finished (2949 seconds)\n",
      "Completed 7C4SV01F.tif in 3045.19032\n",
      "Getting events for 7XFW332I.tif... Finished (1998 seconds)\n",
      "Getting intensities for 7XFW332I.tif... Finished (80 seconds)\n",
      "Getting features for 7XFW332I.tif... Finished (2733 seconds)\n",
      "Completed 7XFW332I.tif in 2836.50951\n",
      "Getting events for 7XGJBQQ3.tif... Finished (2076 seconds)\n",
      "Getting intensities for 7XGJBQQ3.tif... Finished (61 seconds)\n",
      "Getting features for 7XGJBQQ3.tif... Finished (2647 seconds)\n",
      "Completed 7XGJBQQ3.tif in 2732.16036\n",
      "Getting events for 7YFIHF8P.tif... Finished (1059 seconds)\n",
      "Getting intensities for 7YFIHF8P.tif... Finished (51 seconds)\n",
      "Getting features for 7YFIHF8P.tif... Finished (1541 seconds)\n",
      "Completed 7YFIHF8P.tif in 1602.76716\n",
      "Getting events for 8C92MS0M.tif... Finished (2176 seconds)\n",
      "Getting intensities for 8C92MS0M.tif... Finished (95 seconds)\n",
      "Getting features for 8C92MS0M.tif... Finished (3045 seconds)\n",
      "Completed 8C92MS0M.tif in 3161.82845\n",
      "Getting events for 9VEA7WGA.tif... "
     ]
    },
    {
     "name": "stderr",
     "output_type": "stream",
     "text": [
      "/Volumes/Coatamer/Users/weinberz/miniconda3/envs/py37/lib/python3.7/site-packages/rpy2/rinterface/__init__.py:146: RRuntimeWarning: Error in NCOL(eta) : object 'eta' not found\n",
      "\n",
      "  warnings.warn(x, RRuntimeWarning)\n",
      "/Volumes/Coatamer/Users/weinberz/miniconda3/envs/py37/lib/python3.7/site-packages/rpy2/rinterface/__init__.py:146: RRuntimeWarning: Warning messages:\n",
      "\n",
      "  warnings.warn(x, RRuntimeWarning)\n",
      "/Volumes/Coatamer/Users/weinberz/miniconda3/envs/py37/lib/python3.7/site-packages/rpy2/rinterface/__init__.py:146: RRuntimeWarning: 1: \n",
      "  warnings.warn(x, RRuntimeWarning)\n",
      "/Volumes/Coatamer/Users/weinberz/miniconda3/envs/py37/lib/python3.7/site-packages/rpy2/rinterface/__init__.py:146: RRuntimeWarning: In vglm.fitter(x = x, y = y, w = w, offset = offset, Xm2 = Xm2,  :\n",
      "  warnings.warn(x, RRuntimeWarning)\n",
      "/Volumes/Coatamer/Users/weinberz/miniconda3/envs/py37/lib/python3.7/site-packages/rpy2/rinterface/__init__.py:146: RRuntimeWarning: \n",
      " \n",
      "  warnings.warn(x, RRuntimeWarning)\n",
      "/Volumes/Coatamer/Users/weinberz/miniconda3/envs/py37/lib/python3.7/site-packages/rpy2/rinterface/__init__.py:146: RRuntimeWarning:  convergence not obtained in 30 IRLS iterations\n",
      "\n",
      "  warnings.warn(x, RRuntimeWarning)\n",
      "/Volumes/Coatamer/Users/weinberz/miniconda3/envs/py37/lib/python3.7/site-packages/rpy2/rinterface/__init__.py:146: RRuntimeWarning: 2: \n",
      "  warnings.warn(x, RRuntimeWarning)\n",
      "/Volumes/Coatamer/Users/weinberz/miniconda3/envs/py37/lib/python3.7/site-packages/rpy2/rinterface/__init__.py:146: RRuntimeWarning: In min(y) :\n",
      "  warnings.warn(x, RRuntimeWarning)\n",
      "/Volumes/Coatamer/Users/weinberz/miniconda3/envs/py37/lib/python3.7/site-packages/rpy2/rinterface/__init__.py:146: RRuntimeWarning:  no non-missing arguments to min; returning Inf\n",
      "\n",
      "  warnings.warn(x, RRuntimeWarning)\n",
      "/Volumes/Coatamer/Users/weinberz/miniconda3/envs/py37/lib/python3.7/site-packages/rpy2/rinterface/__init__.py:146: RRuntimeWarning: Warning message:\n",
      "\n",
      "  warnings.warn(x, RRuntimeWarning)\n",
      "/Volumes/Coatamer/Users/weinberz/miniconda3/envs/py37/lib/python3.7/site-packages/rpy2/rinterface/__init__.py:146: RRuntimeWarning:  iterations terminated because half-step sizes are very small\n",
      "\n",
      "  warnings.warn(x, RRuntimeWarning)\n",
      "/Volumes/Coatamer/Users/weinberz/miniconda3/envs/py37/lib/python3.7/site-packages/rpy2/rinterface/__init__.py:146: RRuntimeWarning:  some quantities such as z, residuals, SEs may be inaccurate due to convergence at a half-step\n",
      "\n",
      "  warnings.warn(x, RRuntimeWarning)\n",
      "/Volumes/Coatamer/Users/weinberz/Google Drive/Code/puffapy/lib/detection.py:345: RuntimeWarning: invalid value encountered in greater\n",
      "  plm = plm[np.where(plmval > thresh)]\n",
      "/Volumes/Coatamer/Users/weinberz/miniconda3/envs/py37/lib/python3.7/site-packages/rpy2/rinterface/__init__.py:146: RRuntimeWarning: There were 38 warnings (use warnings() to see them)\n",
      "  warnings.warn(x, RRuntimeWarning)\n",
      "/Volumes/Coatamer/Users/weinberz/miniconda3/envs/py37/lib/python3.7/site-packages/rpy2/rinterface/__init__.py:146: RRuntimeWarning: Error in vglm.fitter(x = x, y = y, w = w, offset = offset, Xm2 = Xm2,  : \n",
      "  There are 8 parameters but only 6 observations\n",
      "\n",
      "  warnings.warn(x, RRuntimeWarning)\n"
     ]
    },
    {
     "name": "stdout",
     "output_type": "stream",
     "text": [
      "Finished (2004 seconds)\n",
      "Getting intensities for 9VEA7WGA.tif... Finished (40 seconds)\n",
      "Getting features for 9VEA7WGA.tif... Finished (2372 seconds)\n",
      "Completed 9VEA7WGA.tif in 2436.30145\n",
      "\n"
     ]
    }
   ],
   "source": [
    "for pair in tqdm(matched_pairs):\n",
    "    st_time = time.time()\n",
    "    movie = pair[0]\n",
    "    label = pair[1]\n",
    "    events, intensities, features = detection.process_movie(basedir + os.sep + movie, markers=basedir + os.sep + label)\n",
    "    print('Completed %s in %.5f' % (movie, (time.time()-st_time)))"
   ]
  }
 ],
 "metadata": {
  "kernelspec": {
   "display_name": "Python [conda env:py37] *",
   "language": "python",
   "name": "conda-env-py37-py"
  },
  "language_info": {
   "codemirror_mode": {
    "name": "ipython",
    "version": 3
   },
   "file_extension": ".py",
   "mimetype": "text/x-python",
   "name": "python",
   "nbconvert_exporter": "python",
   "pygments_lexer": "ipython3",
   "version": "3.7.3"
  }
 },
 "nbformat": 4,
 "nbformat_minor": 4
}
